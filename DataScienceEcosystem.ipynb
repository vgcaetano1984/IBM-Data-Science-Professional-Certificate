{
 "cells": [
  {
   "cell_type": "markdown",
   "metadata": {},
   "source": [
    "<center>\n",
    "    <img src=\"https://cf-courses-data.s3.us.cloud-object-storage.appdomain.cloud/IBMDeveloperSkillsNetwork-DS0105EN-SkillsNetwork/labs/Module2/images/SN_web_lightmode.png\" width=\"300\" alt=\"cognitiveclass.ai logo\">\n",
    "</center>\n"
   ]
  },
  {
   "cell_type": "markdown",
   "metadata": {},
   "source": [
    "#### Add your code below following the instructions given in the course\n"
   ]
  },
  {
   "cell_type": "markdown",
   "metadata": {},
   "source": [
    "# Data Science Tools and Ecosystem"
   ]
  },
  {
   "cell_type": "markdown",
   "metadata": {},
   "source": [
    "## In this notebook, Data Science Tools and Ecosystem are summarized."
   ]
  },
  {
   "cell_type": "markdown",
   "metadata": {},
   "source": [
    "## Objectives:\n",
    "\n",
    "- Learn to create and share JupyterLite notebooks\n",
    "- Demonstrate programming skills in Python\n",
    "- List and utilize data science libraries and tools\n",
    "- Perform basic arithmetic operations in Python"
   ]
  },
  {
   "cell_type": "markdown",
   "metadata": {},
   "source": [
    "## Some of the popular languages that Data Scientists use are:\n",
    "- Python\n",
    "- R\n",
    "- SQL\n",
    "- Julia\n",
    "- Scala\n"
   ]
  },
  {
   "cell_type": "markdown",
   "metadata": {},
   "source": [
    "## Some of the commonly used libraries used by Data Scientists include:\n",
    "- Pandas\n",
    "- NumPy\n",
    "- Matplotlib\n",
    "- Scikit-learn\n",
    "- TensorFlow\n",
    "- Keras\n",
    "- PyTorch"
   ]
  },
  {
   "cell_type": "markdown",
   "metadata": {},
   "source": [
    "## Data Science Tools\n",
    "\n",
    "| Tool             | Description                                                  |\n",
    "|------------------|--------------------------------------------------------------|\n",
    "| Jupyter Notebook | Interactive environment for programming and data visualization |\n",
    "| RStudio          | Integrated Development Environment (IDE) for R programming   |\n",
    "| Apache Spark     | Unified analytics engine for large-scale data processing     |\n",
    "| Tableau          | Data visualization tool                                      |\n",
    "| Power BI         | Microsoft data analytics and visualization tool              |"
   ]
  },
  {
   "cell_type": "markdown",
   "metadata": {
    "tags": []
   },
   "source": [
    "## Examples of Arithmetic Expressions\n",
    "\n",
    "- Addition: `5 + 5`\n",
    "- Subtraction: `10 - 4`\n",
    "- Multiplication: `3 * 7`\n",
    "- Division: `8 / 2`"
   ]
  },
  {
   "cell_type": "code",
   "execution_count": 4,
   "metadata": {
    "tags": []
   },
   "outputs": [
    {
     "data": {
      "text/plain": [
       "17"
      ]
     },
     "execution_count": 4,
     "metadata": {},
     "output_type": "execute_result"
    }
   ],
   "source": [
    "# his a simple arithmetic expression to mutiply then add integers\n",
    "\n",
    "(3*4)+5"
   ]
  },
  {
   "cell_type": "code",
   "execution_count": 6,
   "metadata": {
    "tags": []
   },
   "outputs": [
    {
     "data": {
      "text/plain": [
       "3.3333333333333335"
      ]
     },
     "execution_count": 6,
     "metadata": {},
     "output_type": "execute_result"
    }
   ],
   "source": [
    "# This will convert 200 minutes to hours by diving by 60\n",
    "minutes = 200\n",
    "hours = minutes / 60\n",
    "hours"
   ]
  },
  {
   "cell_type": "markdown",
   "metadata": {},
   "source": [
    "## Author\n",
    "Vinicius Caetano"
   ]
  },
  {
   "cell_type": "code",
   "execution_count": null,
   "metadata": {},
   "outputs": [],
   "source": []
  }
 ],
 "metadata": {
  "kernelspec": {
   "display_name": "Python",
   "language": "python",
   "name": "conda-env-python-py"
  },
  "language_info": {
   "codemirror_mode": {
    "name": "ipython",
    "version": 3
   },
   "file_extension": ".py",
   "mimetype": "text/x-python",
   "name": "python",
   "nbconvert_exporter": "python",
   "pygments_lexer": "ipython3",
   "version": "3.7.12"
  }
 },
 "nbformat": 4,
 "nbformat_minor": 4
}
