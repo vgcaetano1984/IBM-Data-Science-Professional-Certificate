{
  "metadata": {
    "kernelspec": {
      "name": "python",
      "display_name": "Python (Pyodide)",
      "language": "python"
    },
    "language_info": {
      "codemirror_mode": {
        "name": "python",
        "version": 3
      },
      "file_extension": ".py",
      "mimetype": "text/x-python",
      "name": "python",
      "nbconvert_exporter": "python",
      "pygments_lexer": "ipython3",
      "version": "3.8"
    },
    "prev_pub_hash": "8d1bc511776f43dd0b8dc79c786c7d7c3dc95a02e3072a4ae3818ef8ed74a474"
  },
  "nbformat_minor": 4,
  "nbformat": 4,
  "cells": [
    {
      "cell_type": "markdown",
      "source": "<p style=\"text-align:center\">\n    <a href=\"https://skills.network/?utm_medium=Exinfluencer&utm_source=Exinfluencer&utm_content=000026UJ&utm_term=10006555&utm_id=NA-SkillsNetwork-Channel-SkillsNetworkCoursesIBMDS0321ENSkillsNetwork26802033-2022-01-01\" target=\"_blank\">\n    <img src=\"https://cf-courses-data.s3.us.cloud-object-storage.appdomain.cloud/assets/logos/SN_web_lightmode.png\" width=\"200\" alt=\"Skills Network Logo\">\n    </a>\n</p>\n",
      "metadata": {}
    },
    {
      "cell_type": "markdown",
      "source": "# **Launch Sites Locations Analysis with Folium**\n",
      "metadata": {}
    },
    {
      "cell_type": "markdown",
      "source": "Estimated time needed: **40** minutes\n",
      "metadata": {}
    },
    {
      "cell_type": "markdown",
      "source": "The launch success rate may depend on many factors such as payload mass, orbit type, and so on. It may also depend on the location and proximities of a launch site, i.e., the initial position of rocket trajectories. Finding an optimal location for building a launch site certainly involves many factors and hopefully we could discover some of the factors by analyzing the existing launch site locations.\n",
      "metadata": {}
    },
    {
      "cell_type": "markdown",
      "source": "In the previous exploratory data analysis labs, you have visualized the SpaceX launch dataset using `matplotlib` and `seaborn` and discovered some preliminary correlations between the launch site and success rates. In this lab, you will be performing more interactive visual analytics using `Folium`.\n",
      "metadata": {}
    },
    {
      "cell_type": "markdown",
      "source": "## Objectives\n",
      "metadata": {}
    },
    {
      "cell_type": "markdown",
      "source": "This lab contains the following tasks:\n\n*   **TASK 1:** Mark all launch sites on a map\n*   **TASK 2:** Mark the success/failed launches for each site on the map\n*   **TASK 3:** Calculate the distances between a launch site to its proximities\n\nAfter completed the above tasks, you should be able to find some geographical patterns about launch sites.\n",
      "metadata": {}
    },
    {
      "cell_type": "markdown",
      "source": "Let's first import required Python packages for this lab:\n",
      "metadata": {}
    },
    {
      "cell_type": "code",
      "source": "import piplite\nawait piplite.install(['folium'])\nawait piplite.install(['pandas'])",
      "metadata": {
        "trusted": true
      },
      "outputs": [],
      "execution_count": 1
    },
    {
      "cell_type": "code",
      "source": "import folium\nimport pandas as pd",
      "metadata": {
        "trusted": true
      },
      "outputs": [],
      "execution_count": 2
    },
    {
      "cell_type": "code",
      "source": "# Import folium MarkerCluster plugin\nfrom folium.plugins import MarkerCluster\n# Import folium MousePosition plugin\nfrom folium.plugins import MousePosition\n# Import folium DivIcon plugin\nfrom folium.features import DivIcon",
      "metadata": {
        "trusted": true
      },
      "outputs": [],
      "execution_count": 3
    },
    {
      "cell_type": "markdown",
      "source": "If you need to refresh your memory about folium, you may download and refer to this previous folium lab:\n",
      "metadata": {}
    },
    {
      "cell_type": "markdown",
      "source": "[Generating Maps with Python](https://cf-courses-data.s3.us.cloud-object-storage.appdomain.cloud/IBM-DS0321EN-SkillsNetwork/labs/module\\_3/DV0101EN-3-5-1-Generating-Maps-in-Python-py-v2.0.ipynb)\n",
      "metadata": {}
    },
    {
      "cell_type": "code",
      "source": "## Task 1: Mark all launch sites on a map",
      "metadata": {
        "trusted": true
      },
      "outputs": [],
      "execution_count": 4
    },
    {
      "cell_type": "markdown",
      "source": "First, let's try to add each site's location on a map using site's latitude and longitude coordinates\n",
      "metadata": {}
    },
    {
      "cell_type": "markdown",
      "source": "The following dataset with the name `spacex_launch_geo.csv` is an augmented dataset with latitude and longitude added for each site.\n",
      "metadata": {}
    },
    {
      "cell_type": "code",
      "source": "# Download and read the `spacex_launch_geo.csv`\nfrom js import fetch\nimport io\n\nURL = 'https://cf-courses-data.s3.us.cloud-object-storage.appdomain.cloud/IBM-DS0321EN-SkillsNetwork/datasets/spacex_launch_geo.csv'\nresp = await fetch(URL)\nspacex_csv_file = io.BytesIO((await resp.arrayBuffer()).to_py())\nspacex_df=pd.read_csv(spacex_csv_file)",
      "metadata": {
        "trusted": true
      },
      "outputs": [],
      "execution_count": 5
    },
    {
      "cell_type": "markdown",
      "source": "Now, you can take a look at what are the coordinates for each site.\n",
      "metadata": {}
    },
    {
      "cell_type": "code",
      "source": "# Select relevant sub-columns: `Launch Site`, `Lat(Latitude)`, `Long(Longitude)`, `class`\nspacex_df = spacex_df[['Launch Site', 'Lat', 'Long', 'class']]\nlaunch_sites_df = spacex_df.groupby(['Launch Site'], as_index=False).first()\nlaunch_sites_df = launch_sites_df[['Launch Site', 'Lat', 'Long']]\nlaunch_sites_df",
      "metadata": {
        "trusted": true
      },
      "outputs": [
        {
          "execution_count": 14,
          "output_type": "execute_result",
          "data": {
            "text/plain": "    Launch Site        Lat        Long\n0   CCAFS LC-40  28.562302  -80.577356\n1  CCAFS SLC-40  28.563197  -80.576820\n2    KSC LC-39A  28.573255  -80.646895\n3   VAFB SLC-4E  34.632834 -120.610745",
            "text/html": "<div>\n<style scoped>\n    .dataframe tbody tr th:only-of-type {\n        vertical-align: middle;\n    }\n\n    .dataframe tbody tr th {\n        vertical-align: top;\n    }\n\n    .dataframe thead th {\n        text-align: right;\n    }\n</style>\n<table border=\"1\" class=\"dataframe\">\n  <thead>\n    <tr style=\"text-align: right;\">\n      <th></th>\n      <th>Launch Site</th>\n      <th>Lat</th>\n      <th>Long</th>\n    </tr>\n  </thead>\n  <tbody>\n    <tr>\n      <th>0</th>\n      <td>CCAFS LC-40</td>\n      <td>28.562302</td>\n      <td>-80.577356</td>\n    </tr>\n    <tr>\n      <th>1</th>\n      <td>CCAFS SLC-40</td>\n      <td>28.563197</td>\n      <td>-80.576820</td>\n    </tr>\n    <tr>\n      <th>2</th>\n      <td>KSC LC-39A</td>\n      <td>28.573255</td>\n      <td>-80.646895</td>\n    </tr>\n    <tr>\n      <th>3</th>\n      <td>VAFB SLC-4E</td>\n      <td>34.632834</td>\n      <td>-120.610745</td>\n    </tr>\n  </tbody>\n</table>\n</div>"
          },
          "metadata": {}
        }
      ],
      "execution_count": 14
    },
    {
      "cell_type": "markdown",
      "source": "Above coordinates are just plain numbers that can not give you any intuitive insights about where are those launch sites. If you are very good at geography, you can interpret those numbers directly in your mind. If not, that's fine too. Let's visualize those locations by pinning them on a map.\n",
      "metadata": {}
    },
    {
      "cell_type": "markdown",
      "source": "We first need to create a folium `Map` object, with an initial center location to be NASA Johnson Space Center at Houston, Texas.\n",
      "metadata": {}
    },
    {
      "cell_type": "code",
      "source": "# Start location is NASA Johnson Space Center\nnasa_coordinate = [29.559684888503615, -95.0830971930759]\nsite_map = folium.Map(location=nasa_coordinate, zoom_start=10)",
      "metadata": {
        "trusted": true
      },
      "outputs": [],
      "execution_count": 15
    },
    {
      "cell_type": "markdown",
      "source": "We could use `folium.Circle` to add a highlighted circle area with a text label on a specific coordinate. For example,\n",
      "metadata": {}
    },
    {
      "cell_type": "code",
      "source": "# Create a blue circle at NASA Johnson Space Center's coordinate with a popup label showing its name\ncircle = folium.Circle(nasa_coordinate, radius=1000, color='#d35400', fill=True).add_child(folium.Popup('NASA Johnson Space Center'))\n# Create a blue circle at NASA Johnson Space Center's coordinate with a icon showing its name\nmarker = folium.map.Marker(\n    nasa_coordinate,\n    # Create an icon as a text label\n    icon=DivIcon(\n        icon_size=(20,20),\n        icon_anchor=(0,0),\n        html='<div style=\"font-size: 12; color:#d35400;\"><b>%s</b></div>' % 'NASA JSC',\n        )\n    )\nsite_map.add_child(circle)\nsite_map.add_child(marker)",
      "metadata": {
        "trusted": true
      },
      "outputs": [
        {
          "execution_count": 21,
          "output_type": "execute_result",
          "data": {
            "text/plain": "<folium.folium.Map at 0x5e35670>",
            "text/html": "<div style=\"width:100%;\"><div style=\"position:relative;width:100%;height:0;padding-bottom:60%;\"><span style=\"color:#565656\">Make this Notebook Trusted to load map: File -> Trust Notebook</span><iframe srcdoc=\"&lt;!DOCTYPE html&gt;\n&lt;html&gt;\n&lt;head&gt;\n    \n    &lt;meta http-equiv=&quot;content-type&quot; content=&quot;text/html; charset=UTF-8&quot; /&gt;\n    \n        &lt;script&gt;\n            L_NO_TOUCH = false;\n            L_DISABLE_3D = false;\n        &lt;/script&gt;\n    \n    &lt;style&gt;html, body {width: 100%;height: 100%;margin: 0;padding: 0;}&lt;/style&gt;\n    &lt;style&gt;#map {position:absolute;top:0;bottom:0;right:0;left:0;}&lt;/style&gt;\n    &lt;script src=&quot;https://cdn.jsdelivr.net/npm/leaflet@1.9.3/dist/leaflet.js&quot;&gt;&lt;/script&gt;\n    &lt;script src=&quot;https://code.jquery.com/jquery-3.7.1.min.js&quot;&gt;&lt;/script&gt;\n    &lt;script src=&quot;https://cdn.jsdelivr.net/npm/bootstrap@5.2.2/dist/js/bootstrap.bundle.min.js&quot;&gt;&lt;/script&gt;\n    &lt;script src=&quot;https://cdnjs.cloudflare.com/ajax/libs/Leaflet.awesome-markers/2.0.2/leaflet.awesome-markers.js&quot;&gt;&lt;/script&gt;\n    &lt;link rel=&quot;stylesheet&quot; href=&quot;https://cdn.jsdelivr.net/npm/leaflet@1.9.3/dist/leaflet.css&quot;/&gt;\n    &lt;link rel=&quot;stylesheet&quot; href=&quot;https://cdn.jsdelivr.net/npm/bootstrap@5.2.2/dist/css/bootstrap.min.css&quot;/&gt;\n    &lt;link rel=&quot;stylesheet&quot; href=&quot;https://netdna.bootstrapcdn.com/bootstrap/3.0.0/css/bootstrap-glyphicons.css&quot;/&gt;\n    &lt;link rel=&quot;stylesheet&quot; href=&quot;https://cdn.jsdelivr.net/npm/@fortawesome/fontawesome-free@6.2.0/css/all.min.css&quot;/&gt;\n    &lt;link rel=&quot;stylesheet&quot; href=&quot;https://cdnjs.cloudflare.com/ajax/libs/Leaflet.awesome-markers/2.0.2/leaflet.awesome-markers.css&quot;/&gt;\n    &lt;link rel=&quot;stylesheet&quot; href=&quot;https://cdn.jsdelivr.net/gh/python-visualization/folium/folium/templates/leaflet.awesome.rotate.min.css&quot;/&gt;\n    \n            &lt;meta name=&quot;viewport&quot; content=&quot;width=device-width,\n                initial-scale=1.0, maximum-scale=1.0, user-scalable=no&quot; /&gt;\n            &lt;style&gt;\n                #map_1ed2ef3e4cefc18275ae33698e22122b {\n                    position: relative;\n                    width: 100.0%;\n                    height: 100.0%;\n                    left: 0.0%;\n                    top: 0.0%;\n                }\n                .leaflet-container { font-size: 1rem; }\n            &lt;/style&gt;\n        \n&lt;/head&gt;\n&lt;body&gt;\n    \n    \n            &lt;div class=&quot;folium-map&quot; id=&quot;map_1ed2ef3e4cefc18275ae33698e22122b&quot; &gt;&lt;/div&gt;\n        \n&lt;/body&gt;\n&lt;script&gt;\n    \n    \n            var map_1ed2ef3e4cefc18275ae33698e22122b = L.map(\n                &quot;map_1ed2ef3e4cefc18275ae33698e22122b&quot;,\n                {\n                    center: [30.08267325, -90.603088],\n                    crs: L.CRS.EPSG3857,\n                    zoom: 5,\n                    zoomControl: true,\n                    preferCanvas: false,\n                }\n            );\n\n            \n\n        \n    \n            var tile_layer_bb59c1e302769f0b758587c8f64ad6c0 = L.tileLayer(\n                &quot;https://tile.openstreetmap.org/{z}/{x}/{y}.png&quot;,\n                {&quot;attribution&quot;: &quot;\\u0026copy; \\u003ca href=\\&quot;https://www.openstreetmap.org/copyright\\&quot;\\u003eOpenStreetMap\\u003c/a\\u003e contributors&quot;, &quot;detectRetina&quot;: false, &quot;maxNativeZoom&quot;: 19, &quot;maxZoom&quot;: 19, &quot;minZoom&quot;: 0, &quot;noWrap&quot;: false, &quot;opacity&quot;: 1, &quot;subdomains&quot;: &quot;abc&quot;, &quot;tms&quot;: false}\n            );\n        \n    \n            tile_layer_bb59c1e302769f0b758587c8f64ad6c0.addTo(map_1ed2ef3e4cefc18275ae33698e22122b);\n        \n    \n            var marker_97277686051c5a767823163589d05133 = L.marker(\n                [28.562302, -80.577356],\n                {}\n            ).addTo(map_1ed2ef3e4cefc18275ae33698e22122b);\n        \n    \n            var icon_55f382ea76ca5222b1663ec77b5e9751 = L.AwesomeMarkers.icon(\n                {&quot;extraClasses&quot;: &quot;fa-rotate-0&quot;, &quot;icon&quot;: &quot;info-sign&quot;, &quot;iconColor&quot;: &quot;white&quot;, &quot;markerColor&quot;: &quot;green&quot;, &quot;prefix&quot;: &quot;glyphicon&quot;}\n            );\n            marker_97277686051c5a767823163589d05133.setIcon(icon_55f382ea76ca5222b1663ec77b5e9751);\n        \n    \n        var popup_091a586155d93190dc0b8830b8438d8b = L.popup({&quot;maxWidth&quot;: &quot;100%&quot;});\n\n        \n            \n                var html_24bdb03d55401808587c6ad76d27c764 = $(`&lt;div id=&quot;html_24bdb03d55401808587c6ad76d27c764&quot; style=&quot;width: 100.0%; height: 100.0%;&quot;&gt;CCAFS LC-40: Success&lt;/div&gt;`)[0];\n                popup_091a586155d93190dc0b8830b8438d8b.setContent(html_24bdb03d55401808587c6ad76d27c764);\n            \n        \n\n        marker_97277686051c5a767823163589d05133.bindPopup(popup_091a586155d93190dc0b8830b8438d8b)\n        ;\n\n        \n    \n    \n            var marker_a274f5c999e07b89ebbfe051b211cf16 = L.marker(\n                [28.562302, -80.577356],\n                {}\n            ).addTo(map_1ed2ef3e4cefc18275ae33698e22122b);\n        \n    \n            var icon_f011dd3197532bdf1baf38d0b4b78fb4 = L.AwesomeMarkers.icon(\n                {&quot;extraClasses&quot;: &quot;fa-rotate-0&quot;, &quot;icon&quot;: &quot;info-sign&quot;, &quot;iconColor&quot;: &quot;white&quot;, &quot;markerColor&quot;: &quot;red&quot;, &quot;prefix&quot;: &quot;glyphicon&quot;}\n            );\n            marker_a274f5c999e07b89ebbfe051b211cf16.setIcon(icon_f011dd3197532bdf1baf38d0b4b78fb4);\n        \n    \n        var popup_a09867ac0b075efcc113ee7c936f54d0 = L.popup({&quot;maxWidth&quot;: &quot;100%&quot;});\n\n        \n            \n                var html_43165d1aecd91fe94e7b43e314d61c73 = $(`&lt;div id=&quot;html_43165d1aecd91fe94e7b43e314d61c73&quot; style=&quot;width: 100.0%; height: 100.0%;&quot;&gt;CCAFS LC-40: Failure&lt;/div&gt;`)[0];\n                popup_a09867ac0b075efcc113ee7c936f54d0.setContent(html_43165d1aecd91fe94e7b43e314d61c73);\n            \n        \n\n        marker_a274f5c999e07b89ebbfe051b211cf16.bindPopup(popup_a09867ac0b075efcc113ee7c936f54d0)\n        ;\n\n        \n    \n    \n            var marker_286a283876a90f91ac0bd8c0e42a151e = L.marker(\n                [28.573255, -80.646895],\n                {}\n            ).addTo(map_1ed2ef3e4cefc18275ae33698e22122b);\n        \n    \n            var icon_fc4ac4b4ed27a6707406870e9745cca1 = L.AwesomeMarkers.icon(\n                {&quot;extraClasses&quot;: &quot;fa-rotate-0&quot;, &quot;icon&quot;: &quot;info-sign&quot;, &quot;iconColor&quot;: &quot;white&quot;, &quot;markerColor&quot;: &quot;green&quot;, &quot;prefix&quot;: &quot;glyphicon&quot;}\n            );\n            marker_286a283876a90f91ac0bd8c0e42a151e.setIcon(icon_fc4ac4b4ed27a6707406870e9745cca1);\n        \n    \n        var popup_dd39b0a57418f95515281c9a6d64e3da = L.popup({&quot;maxWidth&quot;: &quot;100%&quot;});\n\n        \n            \n                var html_6ce012f169c6e376b8f58d3d06d00796 = $(`&lt;div id=&quot;html_6ce012f169c6e376b8f58d3d06d00796&quot; style=&quot;width: 100.0%; height: 100.0%;&quot;&gt;KSC LC-39A: Success&lt;/div&gt;`)[0];\n                popup_dd39b0a57418f95515281c9a6d64e3da.setContent(html_6ce012f169c6e376b8f58d3d06d00796);\n            \n        \n\n        marker_286a283876a90f91ac0bd8c0e42a151e.bindPopup(popup_dd39b0a57418f95515281c9a6d64e3da)\n        ;\n\n        \n    \n    \n            var marker_c2a02f1680279864bf1f3add687cc294 = L.marker(\n                [34.632834, -120.610745],\n                {}\n            ).addTo(map_1ed2ef3e4cefc18275ae33698e22122b);\n        \n    \n            var icon_ae367b97fa74937b3e901c1d56757608 = L.AwesomeMarkers.icon(\n                {&quot;extraClasses&quot;: &quot;fa-rotate-0&quot;, &quot;icon&quot;: &quot;info-sign&quot;, &quot;iconColor&quot;: &quot;white&quot;, &quot;markerColor&quot;: &quot;green&quot;, &quot;prefix&quot;: &quot;glyphicon&quot;}\n            );\n            marker_c2a02f1680279864bf1f3add687cc294.setIcon(icon_ae367b97fa74937b3e901c1d56757608);\n        \n    \n        var popup_725177eab495bac82711515f89afa648 = L.popup({&quot;maxWidth&quot;: &quot;100%&quot;});\n\n        \n            \n                var html_4c7b942a06b3101e3d44667abc2c5981 = $(`&lt;div id=&quot;html_4c7b942a06b3101e3d44667abc2c5981&quot; style=&quot;width: 100.0%; height: 100.0%;&quot;&gt;VAFB SLC-4E: Success&lt;/div&gt;`)[0];\n                popup_725177eab495bac82711515f89afa648.setContent(html_4c7b942a06b3101e3d44667abc2c5981);\n            \n        \n\n        marker_c2a02f1680279864bf1f3add687cc294.bindPopup(popup_725177eab495bac82711515f89afa648)\n        ;\n\n        \n    \n    \n            tile_layer_bb59c1e302769f0b758587c8f64ad6c0.addTo(map_1ed2ef3e4cefc18275ae33698e22122b);\n        \n    \n            var circle_c762259f832529b0fca8560b29534391 = L.circle(\n                [29.559684888503615, -95.0830971930759],\n                {&quot;bubblingMouseEvents&quot;: true, &quot;color&quot;: &quot;#d35400&quot;, &quot;dashArray&quot;: null, &quot;dashOffset&quot;: null, &quot;fill&quot;: true, &quot;fillColor&quot;: &quot;#d35400&quot;, &quot;fillOpacity&quot;: 0.2, &quot;fillRule&quot;: &quot;evenodd&quot;, &quot;lineCap&quot;: &quot;round&quot;, &quot;lineJoin&quot;: &quot;round&quot;, &quot;opacity&quot;: 1.0, &quot;radius&quot;: 1000, &quot;stroke&quot;: true, &quot;weight&quot;: 3}\n            ).addTo(map_1ed2ef3e4cefc18275ae33698e22122b);\n        \n    \n        var popup_9453eaeb24658d3d6f08487c0dceebc6 = L.popup({&quot;maxWidth&quot;: &quot;100%&quot;});\n\n        \n            \n                var html_c2a830f3fd5d7c5cdbb32e9a1333d7a2 = $(`&lt;div id=&quot;html_c2a830f3fd5d7c5cdbb32e9a1333d7a2&quot; style=&quot;width: 100.0%; height: 100.0%;&quot;&gt;NASA Johnson Space Center&lt;/div&gt;`)[0];\n                popup_9453eaeb24658d3d6f08487c0dceebc6.setContent(html_c2a830f3fd5d7c5cdbb32e9a1333d7a2);\n            \n        \n\n        circle_c762259f832529b0fca8560b29534391.bindPopup(popup_9453eaeb24658d3d6f08487c0dceebc6)\n        ;\n\n        \n    \n    \n            var marker_cb4f8c95b681a576e93d7d17c1ef7381 = L.marker(\n                [29.559684888503615, -95.0830971930759],\n                {}\n            ).addTo(map_1ed2ef3e4cefc18275ae33698e22122b);\n        \n    \n            var div_icon_88e9c5c56d09f1842635be40dffd772e = L.divIcon({&quot;className&quot;: &quot;empty&quot;, &quot;html&quot;: &quot;\\u003cdiv style=\\&quot;font-size: 12; color:#d35400;\\&quot;\\u003e\\u003cb\\u003eNASA JSC\\u003c/b\\u003e\\u003c/div\\u003e&quot;, &quot;iconAnchor&quot;: [0, 0], &quot;iconSize&quot;: [20, 20]});\n            marker_cb4f8c95b681a576e93d7d17c1ef7381.setIcon(div_icon_88e9c5c56d09f1842635be40dffd772e);\n        \n&lt;/script&gt;\n&lt;/html&gt;\" style=\"position:absolute;width:100%;height:100%;left:0;top:0;border:none !important;\" allowfullscreen webkitallowfullscreen mozallowfullscreen></iframe></div></div>"
          },
          "metadata": {}
        }
      ],
      "execution_count": 21
    },
    {
      "cell_type": "markdown",
      "source": "and you should find a small yellow circle near the city of Houston and you can zoom-in to see a larger circle.\n",
      "metadata": {}
    },
    {
      "cell_type": "markdown",
      "source": "Now, let's add a circle for each launch site in data frame `launch_sites`\n",
      "metadata": {}
    },
    {
      "cell_type": "markdown",
      "source": "*TODO:*  Create and add `folium.Circle` and `folium.Marker` for each launch site on the site map\n",
      "metadata": {}
    },
    {
      "cell_type": "markdown",
      "source": "An example of folium.Circle:\n",
      "metadata": {}
    },
    {
      "cell_type": "markdown",
      "source": "`folium.Circle(coordinate, radius=1000, color='#000000', fill=True).add_child(folium.Popup(...))`\n",
      "metadata": {}
    },
    {
      "cell_type": "markdown",
      "source": "An example of folium.Marker:\n",
      "metadata": {}
    },
    {
      "cell_type": "markdown",
      "source": "`folium.map.Marker(coordinate, icon=DivIcon(icon_size=(20,20),icon_anchor=(0,0), html='<div style=\"font-size: 12; color:#d35400;\"><b>%s</b></div>' % 'label', ))`\n",
      "metadata": {}
    },
    {
      "cell_type": "code",
      "source": "# Initial the map\n#site_map = folium.Map(location=nasa_coordinate, zoom_start=5)\n# For each launch site, add a Circle object based on its coordinate (Lat, Long) values. In addition, add Launch site name as a popup label\n\nmap_center = [\n    launch_sites_df['Lat'].mean(),\n    launch_sites_df['Long'].mean()\n]\n\n# Initialize the map\nsite_map = folium.Map(location=map_center, zoom_start=5)\n\n# Add circles to the map\nfor index, row in launch_sites_df.iterrows():\n    folium.Circle(\n        location=[row['Lat'], row['Long']],\n        radius=5000,  # Radius in meters\n        popup=folium.Popup(row['Launch Site'], parse_html=True),  # Popup with launch site name\n        color='blue',\n        fill=True,\n        fill_color='blue',\n        fill_opacity=0.5\n    ).add_to(site_map)\n\n# Save the map to an HTML file\nsite_map.save('launch_sites_with_circles_map.html')\n\nprint(\"Map with circles and popup labels has been created and saved as 'launch_sites_with_circles_map.html'.\")\n\nsite_map.add_child(circle)\nsite_map.add_child(marker)\n\n\n\n\n",
      "metadata": {
        "trusted": true
      },
      "outputs": [
        {
          "name": "stdout",
          "text": "Map with circles and popup labels has been created and saved as 'launch_sites_with_circles_map.html'.\n",
          "output_type": "stream"
        },
        {
          "execution_count": 22,
          "output_type": "execute_result",
          "data": {
            "text/plain": "<folium.folium.Map at 0x53c8818>",
            "text/html": "<div style=\"width:100%;\"><div style=\"position:relative;width:100%;height:0;padding-bottom:60%;\"><span style=\"color:#565656\">Make this Notebook Trusted to load map: File -> Trust Notebook</span><iframe srcdoc=\"&lt;!DOCTYPE html&gt;\n&lt;html&gt;\n&lt;head&gt;\n    \n    &lt;meta http-equiv=&quot;content-type&quot; content=&quot;text/html; charset=UTF-8&quot; /&gt;\n    \n        &lt;script&gt;\n            L_NO_TOUCH = false;\n            L_DISABLE_3D = false;\n        &lt;/script&gt;\n    \n    &lt;style&gt;html, body {width: 100%;height: 100%;margin: 0;padding: 0;}&lt;/style&gt;\n    &lt;style&gt;#map {position:absolute;top:0;bottom:0;right:0;left:0;}&lt;/style&gt;\n    &lt;script src=&quot;https://cdn.jsdelivr.net/npm/leaflet@1.9.3/dist/leaflet.js&quot;&gt;&lt;/script&gt;\n    &lt;script src=&quot;https://code.jquery.com/jquery-3.7.1.min.js&quot;&gt;&lt;/script&gt;\n    &lt;script src=&quot;https://cdn.jsdelivr.net/npm/bootstrap@5.2.2/dist/js/bootstrap.bundle.min.js&quot;&gt;&lt;/script&gt;\n    &lt;script src=&quot;https://cdnjs.cloudflare.com/ajax/libs/Leaflet.awesome-markers/2.0.2/leaflet.awesome-markers.js&quot;&gt;&lt;/script&gt;\n    &lt;link rel=&quot;stylesheet&quot; href=&quot;https://cdn.jsdelivr.net/npm/leaflet@1.9.3/dist/leaflet.css&quot;/&gt;\n    &lt;link rel=&quot;stylesheet&quot; href=&quot;https://cdn.jsdelivr.net/npm/bootstrap@5.2.2/dist/css/bootstrap.min.css&quot;/&gt;\n    &lt;link rel=&quot;stylesheet&quot; href=&quot;https://netdna.bootstrapcdn.com/bootstrap/3.0.0/css/bootstrap-glyphicons.css&quot;/&gt;\n    &lt;link rel=&quot;stylesheet&quot; href=&quot;https://cdn.jsdelivr.net/npm/@fortawesome/fontawesome-free@6.2.0/css/all.min.css&quot;/&gt;\n    &lt;link rel=&quot;stylesheet&quot; href=&quot;https://cdnjs.cloudflare.com/ajax/libs/Leaflet.awesome-markers/2.0.2/leaflet.awesome-markers.css&quot;/&gt;\n    &lt;link rel=&quot;stylesheet&quot; href=&quot;https://cdn.jsdelivr.net/gh/python-visualization/folium/folium/templates/leaflet.awesome.rotate.min.css&quot;/&gt;\n    \n            &lt;meta name=&quot;viewport&quot; content=&quot;width=device-width,\n                initial-scale=1.0, maximum-scale=1.0, user-scalable=no&quot; /&gt;\n            &lt;style&gt;\n                #map_38150fce44e2391fc013c3b0c14569ab {\n                    position: relative;\n                    width: 100.0%;\n                    height: 100.0%;\n                    left: 0.0%;\n                    top: 0.0%;\n                }\n                .leaflet-container { font-size: 1rem; }\n            &lt;/style&gt;\n        \n&lt;/head&gt;\n&lt;body&gt;\n    \n    \n            &lt;div class=&quot;folium-map&quot; id=&quot;map_38150fce44e2391fc013c3b0c14569ab&quot; &gt;&lt;/div&gt;\n        \n&lt;/body&gt;\n&lt;script&gt;\n    \n    \n            var map_38150fce44e2391fc013c3b0c14569ab = L.map(\n                &quot;map_38150fce44e2391fc013c3b0c14569ab&quot;,\n                {\n                    center: [30.08289697, -90.602954325],\n                    crs: L.CRS.EPSG3857,\n                    zoom: 5,\n                    zoomControl: true,\n                    preferCanvas: false,\n                }\n            );\n\n            \n\n        \n    \n            var tile_layer_46996cebed3cea2ed06eeada886e7ee6 = L.tileLayer(\n                &quot;https://tile.openstreetmap.org/{z}/{x}/{y}.png&quot;,\n                {&quot;attribution&quot;: &quot;\\u0026copy; \\u003ca href=\\&quot;https://www.openstreetmap.org/copyright\\&quot;\\u003eOpenStreetMap\\u003c/a\\u003e contributors&quot;, &quot;detectRetina&quot;: false, &quot;maxNativeZoom&quot;: 19, &quot;maxZoom&quot;: 19, &quot;minZoom&quot;: 0, &quot;noWrap&quot;: false, &quot;opacity&quot;: 1, &quot;subdomains&quot;: &quot;abc&quot;, &quot;tms&quot;: false}\n            );\n        \n    \n            tile_layer_46996cebed3cea2ed06eeada886e7ee6.addTo(map_38150fce44e2391fc013c3b0c14569ab);\n        \n    \n            var circle_3b5d856203118d8d7662db99161d9ea2 = L.circle(\n                [28.56230197, -80.57735648],\n                {&quot;bubblingMouseEvents&quot;: true, &quot;color&quot;: &quot;blue&quot;, &quot;dashArray&quot;: null, &quot;dashOffset&quot;: null, &quot;fill&quot;: true, &quot;fillColor&quot;: &quot;blue&quot;, &quot;fillOpacity&quot;: 0.5, &quot;fillRule&quot;: &quot;evenodd&quot;, &quot;lineCap&quot;: &quot;round&quot;, &quot;lineJoin&quot;: &quot;round&quot;, &quot;opacity&quot;: 1.0, &quot;radius&quot;: 5000, &quot;stroke&quot;: true, &quot;weight&quot;: 3}\n            ).addTo(map_38150fce44e2391fc013c3b0c14569ab);\n        \n    \n        var popup_30e2284ad24941e9316f36adc6c4698a = L.popup({&quot;maxWidth&quot;: &quot;100%&quot;});\n\n        \n            \n                var html_142f3ab563cae77790bca4a4b307bf3a = $(`&lt;div id=&quot;html_142f3ab563cae77790bca4a4b307bf3a&quot; style=&quot;width: 100.0%; height: 100.0%;&quot;&gt;CCAFS LC-40&lt;/div&gt;`)[0];\n                popup_30e2284ad24941e9316f36adc6c4698a.setContent(html_142f3ab563cae77790bca4a4b307bf3a);\n            \n        \n\n        circle_3b5d856203118d8d7662db99161d9ea2.bindPopup(popup_30e2284ad24941e9316f36adc6c4698a)\n        ;\n\n        \n    \n    \n            var circle_ffc078550fb36737a7fa66eb70eb8344 = L.circle(\n                [28.56319718, -80.57682003],\n                {&quot;bubblingMouseEvents&quot;: true, &quot;color&quot;: &quot;blue&quot;, &quot;dashArray&quot;: null, &quot;dashOffset&quot;: null, &quot;fill&quot;: true, &quot;fillColor&quot;: &quot;blue&quot;, &quot;fillOpacity&quot;: 0.5, &quot;fillRule&quot;: &quot;evenodd&quot;, &quot;lineCap&quot;: &quot;round&quot;, &quot;lineJoin&quot;: &quot;round&quot;, &quot;opacity&quot;: 1.0, &quot;radius&quot;: 5000, &quot;stroke&quot;: true, &quot;weight&quot;: 3}\n            ).addTo(map_38150fce44e2391fc013c3b0c14569ab);\n        \n    \n        var popup_ed20e9900d324cf378391985fb826c8b = L.popup({&quot;maxWidth&quot;: &quot;100%&quot;});\n\n        \n            \n                var html_594b271dc45ff9297bb1e46f13d13888 = $(`&lt;div id=&quot;html_594b271dc45ff9297bb1e46f13d13888&quot; style=&quot;width: 100.0%; height: 100.0%;&quot;&gt;CCAFS SLC-40&lt;/div&gt;`)[0];\n                popup_ed20e9900d324cf378391985fb826c8b.setContent(html_594b271dc45ff9297bb1e46f13d13888);\n            \n        \n\n        circle_ffc078550fb36737a7fa66eb70eb8344.bindPopup(popup_ed20e9900d324cf378391985fb826c8b)\n        ;\n\n        \n    \n    \n            var circle_8563c43b8ea0c1834a5a7011dab30db4 = L.circle(\n                [28.57325457, -80.64689529],\n                {&quot;bubblingMouseEvents&quot;: true, &quot;color&quot;: &quot;blue&quot;, &quot;dashArray&quot;: null, &quot;dashOffset&quot;: null, &quot;fill&quot;: true, &quot;fillColor&quot;: &quot;blue&quot;, &quot;fillOpacity&quot;: 0.5, &quot;fillRule&quot;: &quot;evenodd&quot;, &quot;lineCap&quot;: &quot;round&quot;, &quot;lineJoin&quot;: &quot;round&quot;, &quot;opacity&quot;: 1.0, &quot;radius&quot;: 5000, &quot;stroke&quot;: true, &quot;weight&quot;: 3}\n            ).addTo(map_38150fce44e2391fc013c3b0c14569ab);\n        \n    \n        var popup_a4310eafd8c5cca1c614ca36d2d9ad6c = L.popup({&quot;maxWidth&quot;: &quot;100%&quot;});\n\n        \n            \n                var html_e15bd7b87f9f1bb517b525d16b9b352f = $(`&lt;div id=&quot;html_e15bd7b87f9f1bb517b525d16b9b352f&quot; style=&quot;width: 100.0%; height: 100.0%;&quot;&gt;KSC LC-39A&lt;/div&gt;`)[0];\n                popup_a4310eafd8c5cca1c614ca36d2d9ad6c.setContent(html_e15bd7b87f9f1bb517b525d16b9b352f);\n            \n        \n\n        circle_8563c43b8ea0c1834a5a7011dab30db4.bindPopup(popup_a4310eafd8c5cca1c614ca36d2d9ad6c)\n        ;\n\n        \n    \n    \n            var circle_e454b0786fae8fe50fbc92973d7677b3 = L.circle(\n                [34.63283416, -120.6107455],\n                {&quot;bubblingMouseEvents&quot;: true, &quot;color&quot;: &quot;blue&quot;, &quot;dashArray&quot;: null, &quot;dashOffset&quot;: null, &quot;fill&quot;: true, &quot;fillColor&quot;: &quot;blue&quot;, &quot;fillOpacity&quot;: 0.5, &quot;fillRule&quot;: &quot;evenodd&quot;, &quot;lineCap&quot;: &quot;round&quot;, &quot;lineJoin&quot;: &quot;round&quot;, &quot;opacity&quot;: 1.0, &quot;radius&quot;: 5000, &quot;stroke&quot;: true, &quot;weight&quot;: 3}\n            ).addTo(map_38150fce44e2391fc013c3b0c14569ab);\n        \n    \n        var popup_749732d1eeb9f9d0f7c5c0223204b75f = L.popup({&quot;maxWidth&quot;: &quot;100%&quot;});\n\n        \n            \n                var html_61cea13dba045fa8c504850003c43473 = $(`&lt;div id=&quot;html_61cea13dba045fa8c504850003c43473&quot; style=&quot;width: 100.0%; height: 100.0%;&quot;&gt;VAFB SLC-4E&lt;/div&gt;`)[0];\n                popup_749732d1eeb9f9d0f7c5c0223204b75f.setContent(html_61cea13dba045fa8c504850003c43473);\n            \n        \n\n        circle_e454b0786fae8fe50fbc92973d7677b3.bindPopup(popup_749732d1eeb9f9d0f7c5c0223204b75f)\n        ;\n\n        \n    \n    \n            tile_layer_46996cebed3cea2ed06eeada886e7ee6.addTo(map_38150fce44e2391fc013c3b0c14569ab);\n        \n    \n            var circle_c762259f832529b0fca8560b29534391 = L.circle(\n                [29.559684888503615, -95.0830971930759],\n                {&quot;bubblingMouseEvents&quot;: true, &quot;color&quot;: &quot;#d35400&quot;, &quot;dashArray&quot;: null, &quot;dashOffset&quot;: null, &quot;fill&quot;: true, &quot;fillColor&quot;: &quot;#d35400&quot;, &quot;fillOpacity&quot;: 0.2, &quot;fillRule&quot;: &quot;evenodd&quot;, &quot;lineCap&quot;: &quot;round&quot;, &quot;lineJoin&quot;: &quot;round&quot;, &quot;opacity&quot;: 1.0, &quot;radius&quot;: 1000, &quot;stroke&quot;: true, &quot;weight&quot;: 3}\n            ).addTo(map_38150fce44e2391fc013c3b0c14569ab);\n        \n    \n        var popup_9453eaeb24658d3d6f08487c0dceebc6 = L.popup({&quot;maxWidth&quot;: &quot;100%&quot;});\n\n        \n            \n                var html_c2a830f3fd5d7c5cdbb32e9a1333d7a2 = $(`&lt;div id=&quot;html_c2a830f3fd5d7c5cdbb32e9a1333d7a2&quot; style=&quot;width: 100.0%; height: 100.0%;&quot;&gt;NASA Johnson Space Center&lt;/div&gt;`)[0];\n                popup_9453eaeb24658d3d6f08487c0dceebc6.setContent(html_c2a830f3fd5d7c5cdbb32e9a1333d7a2);\n            \n        \n\n        circle_c762259f832529b0fca8560b29534391.bindPopup(popup_9453eaeb24658d3d6f08487c0dceebc6)\n        ;\n\n        \n    \n    \n            var marker_cb4f8c95b681a576e93d7d17c1ef7381 = L.marker(\n                [29.559684888503615, -95.0830971930759],\n                {}\n            ).addTo(map_38150fce44e2391fc013c3b0c14569ab);\n        \n    \n            var div_icon_88e9c5c56d09f1842635be40dffd772e = L.divIcon({&quot;className&quot;: &quot;empty&quot;, &quot;html&quot;: &quot;\\u003cdiv style=\\&quot;font-size: 12; color:#d35400;\\&quot;\\u003e\\u003cb\\u003eNASA JSC\\u003c/b\\u003e\\u003c/div\\u003e&quot;, &quot;iconAnchor&quot;: [0, 0], &quot;iconSize&quot;: [20, 20]});\n            marker_cb4f8c95b681a576e93d7d17c1ef7381.setIcon(div_icon_88e9c5c56d09f1842635be40dffd772e);\n        \n&lt;/script&gt;\n&lt;/html&gt;\" style=\"position:absolute;width:100%;height:100%;left:0;top:0;border:none !important;\" allowfullscreen webkitallowfullscreen mozallowfullscreen></iframe></div></div>"
          },
          "metadata": {}
        }
      ],
      "execution_count": 22
    },
    {
      "cell_type": "markdown",
      "source": "The generated map with marked launch sites should look similar to the following:\n",
      "metadata": {}
    },
    {
      "cell_type": "markdown",
      "source": "<center>\n    <img src=\"https://cf-courses-data.s3.us.cloud-object-storage.appdomain.cloud/IBM-DS0321EN-SkillsNetwork/labs/module_3/images/launch_site_markers.png\">\n</center>\n",
      "metadata": {}
    },
    {
      "cell_type": "markdown",
      "source": "Now, you can explore the map by zoom-in/out the marked areas\n, and try to answer the following questions:\n\n*   Are all launch sites in proximity to the Equator line?\n*   Are all launch sites in very close proximity to the coast?\n\nAlso please try to explain your findings.\n",
      "metadata": {}
    },
    {
      "cell_type": "code",
      "source": "# Task 2: Mark the success/failed launches for each site on the map\nimport folium\nimport pandas as pd\n\n# Sample DataFrame with launch sites and their coordinates, including success/failure\nspacex_df = pd.DataFrame({\n    'Launch Site': ['CCAFS LC-40', 'CCAFS LC-40', 'KSC LC-39A', 'VAFB SLC-4E'],\n    'Lat': [28.562302, 28.562302, 28.573255, 34.632834],\n    'Long': [-80.577356, -80.577356, -80.646895, -120.610745],\n    'class': [1, 0, 1, 1]  # 1 for success, 0 for failure\n})\n\n# Set the initial map center\nmap_center = [\n    spacex_df['Lat'].mean(),\n    spacex_df['Long'].mean()\n]\n\n# Initialize the map\nsite_map = folium.Map(location=map_center, zoom_start=5)\n\n# Add circles for each launch, colored by success/failure\nfor index, row in spacex_df.iterrows():\n    color = 'green' if row['class'] == 1 else 'red'\n    label = 'Success' if row['class'] == 1 else 'Failure'\n    \n    folium.Marker(\n        location=[row['Lat'], row['Long']],\n        popup=folium.Popup(f\"{row['Launch Site']}: {label}\", parse_html=True),\n        icon=folium.Icon(color=color, icon='info-sign')\n    ).add_to(site_map)\n\n# Save the map to an HTML file\nsite_map.save('launch_sites_success_failure_map.html')\n\nprint(\"Map with success/failure launches has been created and saved as 'launch_sites_success_failure_map.html'.\")\n\n\nsite_map.add_child(circle)\nsite_map.add_child(marker)",
      "metadata": {
        "trusted": true
      },
      "outputs": [
        {
          "name": "stdout",
          "text": "Map with success/failure launches has been created and saved as 'launch_sites_success_failure_map.html'.\n",
          "output_type": "stream"
        },
        {
          "execution_count": 23,
          "output_type": "execute_result",
          "data": {
            "text/plain": "<folium.folium.Map at 0x56c0980>",
            "text/html": "<div style=\"width:100%;\"><div style=\"position:relative;width:100%;height:0;padding-bottom:60%;\"><span style=\"color:#565656\">Make this Notebook Trusted to load map: File -> Trust Notebook</span><iframe srcdoc=\"&lt;!DOCTYPE html&gt;\n&lt;html&gt;\n&lt;head&gt;\n    \n    &lt;meta http-equiv=&quot;content-type&quot; content=&quot;text/html; charset=UTF-8&quot; /&gt;\n    \n        &lt;script&gt;\n            L_NO_TOUCH = false;\n            L_DISABLE_3D = false;\n        &lt;/script&gt;\n    \n    &lt;style&gt;html, body {width: 100%;height: 100%;margin: 0;padding: 0;}&lt;/style&gt;\n    &lt;style&gt;#map {position:absolute;top:0;bottom:0;right:0;left:0;}&lt;/style&gt;\n    &lt;script src=&quot;https://cdn.jsdelivr.net/npm/leaflet@1.9.3/dist/leaflet.js&quot;&gt;&lt;/script&gt;\n    &lt;script src=&quot;https://code.jquery.com/jquery-3.7.1.min.js&quot;&gt;&lt;/script&gt;\n    &lt;script src=&quot;https://cdn.jsdelivr.net/npm/bootstrap@5.2.2/dist/js/bootstrap.bundle.min.js&quot;&gt;&lt;/script&gt;\n    &lt;script src=&quot;https://cdnjs.cloudflare.com/ajax/libs/Leaflet.awesome-markers/2.0.2/leaflet.awesome-markers.js&quot;&gt;&lt;/script&gt;\n    &lt;link rel=&quot;stylesheet&quot; href=&quot;https://cdn.jsdelivr.net/npm/leaflet@1.9.3/dist/leaflet.css&quot;/&gt;\n    &lt;link rel=&quot;stylesheet&quot; href=&quot;https://cdn.jsdelivr.net/npm/bootstrap@5.2.2/dist/css/bootstrap.min.css&quot;/&gt;\n    &lt;link rel=&quot;stylesheet&quot; href=&quot;https://netdna.bootstrapcdn.com/bootstrap/3.0.0/css/bootstrap-glyphicons.css&quot;/&gt;\n    &lt;link rel=&quot;stylesheet&quot; href=&quot;https://cdn.jsdelivr.net/npm/@fortawesome/fontawesome-free@6.2.0/css/all.min.css&quot;/&gt;\n    &lt;link rel=&quot;stylesheet&quot; href=&quot;https://cdnjs.cloudflare.com/ajax/libs/Leaflet.awesome-markers/2.0.2/leaflet.awesome-markers.css&quot;/&gt;\n    &lt;link rel=&quot;stylesheet&quot; href=&quot;https://cdn.jsdelivr.net/gh/python-visualization/folium/folium/templates/leaflet.awesome.rotate.min.css&quot;/&gt;\n    \n            &lt;meta name=&quot;viewport&quot; content=&quot;width=device-width,\n                initial-scale=1.0, maximum-scale=1.0, user-scalable=no&quot; /&gt;\n            &lt;style&gt;\n                #map_7ef7415d8e47f104a67e049d1d6a2c3b {\n                    position: relative;\n                    width: 100.0%;\n                    height: 100.0%;\n                    left: 0.0%;\n                    top: 0.0%;\n                }\n                .leaflet-container { font-size: 1rem; }\n            &lt;/style&gt;\n        \n&lt;/head&gt;\n&lt;body&gt;\n    \n    \n            &lt;div class=&quot;folium-map&quot; id=&quot;map_7ef7415d8e47f104a67e049d1d6a2c3b&quot; &gt;&lt;/div&gt;\n        \n&lt;/body&gt;\n&lt;script&gt;\n    \n    \n            var map_7ef7415d8e47f104a67e049d1d6a2c3b = L.map(\n                &quot;map_7ef7415d8e47f104a67e049d1d6a2c3b&quot;,\n                {\n                    center: [30.08267325, -90.603088],\n                    crs: L.CRS.EPSG3857,\n                    zoom: 5,\n                    zoomControl: true,\n                    preferCanvas: false,\n                }\n            );\n\n            \n\n        \n    \n            var tile_layer_a6a49f2e074b939781ce92997d582778 = L.tileLayer(\n                &quot;https://tile.openstreetmap.org/{z}/{x}/{y}.png&quot;,\n                {&quot;attribution&quot;: &quot;\\u0026copy; \\u003ca href=\\&quot;https://www.openstreetmap.org/copyright\\&quot;\\u003eOpenStreetMap\\u003c/a\\u003e contributors&quot;, &quot;detectRetina&quot;: false, &quot;maxNativeZoom&quot;: 19, &quot;maxZoom&quot;: 19, &quot;minZoom&quot;: 0, &quot;noWrap&quot;: false, &quot;opacity&quot;: 1, &quot;subdomains&quot;: &quot;abc&quot;, &quot;tms&quot;: false}\n            );\n        \n    \n            tile_layer_a6a49f2e074b939781ce92997d582778.addTo(map_7ef7415d8e47f104a67e049d1d6a2c3b);\n        \n    \n            var marker_0206c73f69ff4259b97d510be2e3ddd3 = L.marker(\n                [28.562302, -80.577356],\n                {}\n            ).addTo(map_7ef7415d8e47f104a67e049d1d6a2c3b);\n        \n    \n            var icon_a1e019db90aa160aef1b599755b3473a = L.AwesomeMarkers.icon(\n                {&quot;extraClasses&quot;: &quot;fa-rotate-0&quot;, &quot;icon&quot;: &quot;info-sign&quot;, &quot;iconColor&quot;: &quot;white&quot;, &quot;markerColor&quot;: &quot;green&quot;, &quot;prefix&quot;: &quot;glyphicon&quot;}\n            );\n            marker_0206c73f69ff4259b97d510be2e3ddd3.setIcon(icon_a1e019db90aa160aef1b599755b3473a);\n        \n    \n        var popup_32f7d4bb760b25ae0ae58d063342a43d = L.popup({&quot;maxWidth&quot;: &quot;100%&quot;});\n\n        \n            \n                var html_9b7e74480aa5effc10ec0877ea0bb828 = $(`&lt;div id=&quot;html_9b7e74480aa5effc10ec0877ea0bb828&quot; style=&quot;width: 100.0%; height: 100.0%;&quot;&gt;CCAFS LC-40: Success&lt;/div&gt;`)[0];\n                popup_32f7d4bb760b25ae0ae58d063342a43d.setContent(html_9b7e74480aa5effc10ec0877ea0bb828);\n            \n        \n\n        marker_0206c73f69ff4259b97d510be2e3ddd3.bindPopup(popup_32f7d4bb760b25ae0ae58d063342a43d)\n        ;\n\n        \n    \n    \n            var marker_63c4415b517b110b1731cfa76da9e01b = L.marker(\n                [28.562302, -80.577356],\n                {}\n            ).addTo(map_7ef7415d8e47f104a67e049d1d6a2c3b);\n        \n    \n            var icon_aedefce1e1a3d5d78a13a703612afff5 = L.AwesomeMarkers.icon(\n                {&quot;extraClasses&quot;: &quot;fa-rotate-0&quot;, &quot;icon&quot;: &quot;info-sign&quot;, &quot;iconColor&quot;: &quot;white&quot;, &quot;markerColor&quot;: &quot;red&quot;, &quot;prefix&quot;: &quot;glyphicon&quot;}\n            );\n            marker_63c4415b517b110b1731cfa76da9e01b.setIcon(icon_aedefce1e1a3d5d78a13a703612afff5);\n        \n    \n        var popup_a6652a4fd8d96f2e7a4bc32a1edc40ae = L.popup({&quot;maxWidth&quot;: &quot;100%&quot;});\n\n        \n            \n                var html_1d1bfc5f4260a253f33fbdef2cf75c72 = $(`&lt;div id=&quot;html_1d1bfc5f4260a253f33fbdef2cf75c72&quot; style=&quot;width: 100.0%; height: 100.0%;&quot;&gt;CCAFS LC-40: Failure&lt;/div&gt;`)[0];\n                popup_a6652a4fd8d96f2e7a4bc32a1edc40ae.setContent(html_1d1bfc5f4260a253f33fbdef2cf75c72);\n            \n        \n\n        marker_63c4415b517b110b1731cfa76da9e01b.bindPopup(popup_a6652a4fd8d96f2e7a4bc32a1edc40ae)\n        ;\n\n        \n    \n    \n            var marker_bcbb92de3c2318aa9a1292bc56057a1a = L.marker(\n                [28.573255, -80.646895],\n                {}\n            ).addTo(map_7ef7415d8e47f104a67e049d1d6a2c3b);\n        \n    \n            var icon_9e841dbf79856e46c31e8bd32890e4ff = L.AwesomeMarkers.icon(\n                {&quot;extraClasses&quot;: &quot;fa-rotate-0&quot;, &quot;icon&quot;: &quot;info-sign&quot;, &quot;iconColor&quot;: &quot;white&quot;, &quot;markerColor&quot;: &quot;green&quot;, &quot;prefix&quot;: &quot;glyphicon&quot;}\n            );\n            marker_bcbb92de3c2318aa9a1292bc56057a1a.setIcon(icon_9e841dbf79856e46c31e8bd32890e4ff);\n        \n    \n        var popup_fe12b7ad134feb7388aeca600e5098e9 = L.popup({&quot;maxWidth&quot;: &quot;100%&quot;});\n\n        \n            \n                var html_2c4e6987cf5e2b98b31858414026ef22 = $(`&lt;div id=&quot;html_2c4e6987cf5e2b98b31858414026ef22&quot; style=&quot;width: 100.0%; height: 100.0%;&quot;&gt;KSC LC-39A: Success&lt;/div&gt;`)[0];\n                popup_fe12b7ad134feb7388aeca600e5098e9.setContent(html_2c4e6987cf5e2b98b31858414026ef22);\n            \n        \n\n        marker_bcbb92de3c2318aa9a1292bc56057a1a.bindPopup(popup_fe12b7ad134feb7388aeca600e5098e9)\n        ;\n\n        \n    \n    \n            var marker_bc2da02218b2920274c465df251aed89 = L.marker(\n                [34.632834, -120.610745],\n                {}\n            ).addTo(map_7ef7415d8e47f104a67e049d1d6a2c3b);\n        \n    \n            var icon_f8449520e3223991b97d9a5dac03344b = L.AwesomeMarkers.icon(\n                {&quot;extraClasses&quot;: &quot;fa-rotate-0&quot;, &quot;icon&quot;: &quot;info-sign&quot;, &quot;iconColor&quot;: &quot;white&quot;, &quot;markerColor&quot;: &quot;green&quot;, &quot;prefix&quot;: &quot;glyphicon&quot;}\n            );\n            marker_bc2da02218b2920274c465df251aed89.setIcon(icon_f8449520e3223991b97d9a5dac03344b);\n        \n    \n        var popup_28f9f951e59b1e9218b8b7bed9d48d77 = L.popup({&quot;maxWidth&quot;: &quot;100%&quot;});\n\n        \n            \n                var html_adb00b4598400531a1c2316b2f92dc42 = $(`&lt;div id=&quot;html_adb00b4598400531a1c2316b2f92dc42&quot; style=&quot;width: 100.0%; height: 100.0%;&quot;&gt;VAFB SLC-4E: Success&lt;/div&gt;`)[0];\n                popup_28f9f951e59b1e9218b8b7bed9d48d77.setContent(html_adb00b4598400531a1c2316b2f92dc42);\n            \n        \n\n        marker_bc2da02218b2920274c465df251aed89.bindPopup(popup_28f9f951e59b1e9218b8b7bed9d48d77)\n        ;\n\n        \n    \n    \n            tile_layer_a6a49f2e074b939781ce92997d582778.addTo(map_7ef7415d8e47f104a67e049d1d6a2c3b);\n        \n    \n            var circle_c762259f832529b0fca8560b29534391 = L.circle(\n                [29.559684888503615, -95.0830971930759],\n                {&quot;bubblingMouseEvents&quot;: true, &quot;color&quot;: &quot;#d35400&quot;, &quot;dashArray&quot;: null, &quot;dashOffset&quot;: null, &quot;fill&quot;: true, &quot;fillColor&quot;: &quot;#d35400&quot;, &quot;fillOpacity&quot;: 0.2, &quot;fillRule&quot;: &quot;evenodd&quot;, &quot;lineCap&quot;: &quot;round&quot;, &quot;lineJoin&quot;: &quot;round&quot;, &quot;opacity&quot;: 1.0, &quot;radius&quot;: 1000, &quot;stroke&quot;: true, &quot;weight&quot;: 3}\n            ).addTo(map_7ef7415d8e47f104a67e049d1d6a2c3b);\n        \n    \n        var popup_9453eaeb24658d3d6f08487c0dceebc6 = L.popup({&quot;maxWidth&quot;: &quot;100%&quot;});\n\n        \n            \n                var html_c2a830f3fd5d7c5cdbb32e9a1333d7a2 = $(`&lt;div id=&quot;html_c2a830f3fd5d7c5cdbb32e9a1333d7a2&quot; style=&quot;width: 100.0%; height: 100.0%;&quot;&gt;NASA Johnson Space Center&lt;/div&gt;`)[0];\n                popup_9453eaeb24658d3d6f08487c0dceebc6.setContent(html_c2a830f3fd5d7c5cdbb32e9a1333d7a2);\n            \n        \n\n        circle_c762259f832529b0fca8560b29534391.bindPopup(popup_9453eaeb24658d3d6f08487c0dceebc6)\n        ;\n\n        \n    \n    \n            var marker_cb4f8c95b681a576e93d7d17c1ef7381 = L.marker(\n                [29.559684888503615, -95.0830971930759],\n                {}\n            ).addTo(map_7ef7415d8e47f104a67e049d1d6a2c3b);\n        \n    \n            var div_icon_88e9c5c56d09f1842635be40dffd772e = L.divIcon({&quot;className&quot;: &quot;empty&quot;, &quot;html&quot;: &quot;\\u003cdiv style=\\&quot;font-size: 12; color:#d35400;\\&quot;\\u003e\\u003cb\\u003eNASA JSC\\u003c/b\\u003e\\u003c/div\\u003e&quot;, &quot;iconAnchor&quot;: [0, 0], &quot;iconSize&quot;: [20, 20]});\n            marker_cb4f8c95b681a576e93d7d17c1ef7381.setIcon(div_icon_88e9c5c56d09f1842635be40dffd772e);\n        \n&lt;/script&gt;\n&lt;/html&gt;\" style=\"position:absolute;width:100%;height:100%;left:0;top:0;border:none !important;\" allowfullscreen webkitallowfullscreen mozallowfullscreen></iframe></div></div>"
          },
          "metadata": {}
        }
      ],
      "execution_count": 23
    },
    {
      "cell_type": "markdown",
      "source": "Next, let's try to enhance the map by adding the launch outcomes for each site, and see which sites have high success rates.\nRecall that data frame spacex_df has detailed launch records, and the `class` column indicates if this launch was successful or not\n",
      "metadata": {}
    },
    {
      "cell_type": "code",
      "source": "spacex_df.tail(10)",
      "metadata": {
        "trusted": true
      },
      "outputs": [
        {
          "execution_count": 24,
          "output_type": "execute_result",
          "data": {
            "text/plain": "   Launch Site        Lat        Long  class\n0  CCAFS LC-40  28.562302  -80.577356      1\n1  CCAFS LC-40  28.562302  -80.577356      0\n2   KSC LC-39A  28.573255  -80.646895      1\n3  VAFB SLC-4E  34.632834 -120.610745      1",
            "text/html": "<div>\n<style scoped>\n    .dataframe tbody tr th:only-of-type {\n        vertical-align: middle;\n    }\n\n    .dataframe tbody tr th {\n        vertical-align: top;\n    }\n\n    .dataframe thead th {\n        text-align: right;\n    }\n</style>\n<table border=\"1\" class=\"dataframe\">\n  <thead>\n    <tr style=\"text-align: right;\">\n      <th></th>\n      <th>Launch Site</th>\n      <th>Lat</th>\n      <th>Long</th>\n      <th>class</th>\n    </tr>\n  </thead>\n  <tbody>\n    <tr>\n      <th>0</th>\n      <td>CCAFS LC-40</td>\n      <td>28.562302</td>\n      <td>-80.577356</td>\n      <td>1</td>\n    </tr>\n    <tr>\n      <th>1</th>\n      <td>CCAFS LC-40</td>\n      <td>28.562302</td>\n      <td>-80.577356</td>\n      <td>0</td>\n    </tr>\n    <tr>\n      <th>2</th>\n      <td>KSC LC-39A</td>\n      <td>28.573255</td>\n      <td>-80.646895</td>\n      <td>1</td>\n    </tr>\n    <tr>\n      <th>3</th>\n      <td>VAFB SLC-4E</td>\n      <td>34.632834</td>\n      <td>-120.610745</td>\n      <td>1</td>\n    </tr>\n  </tbody>\n</table>\n</div>"
          },
          "metadata": {}
        }
      ],
      "execution_count": 24
    },
    {
      "cell_type": "markdown",
      "source": "Next, let's create markers for all launch records.\nIf a launch was successful `(class=1)`, then we use a green marker and if a launch was failed, we use a red marker `(class=0)`\n",
      "metadata": {}
    },
    {
      "cell_type": "markdown",
      "source": "Note that a launch only happens in one of the four launch sites, which means many launch records will have the exact same coordinate. Marker clusters can be a good way to simplify a map containing many markers having the same coordinate.\n",
      "metadata": {}
    },
    {
      "cell_type": "markdown",
      "source": "Let's first create a `MarkerCluster` object\n",
      "metadata": {}
    },
    {
      "cell_type": "code",
      "source": "marker_cluster = MarkerCluster()\n",
      "metadata": {
        "trusted": true
      },
      "outputs": [],
      "execution_count": 25
    },
    {
      "cell_type": "markdown",
      "source": "*TODO:* Create a new column in `launch_sites` dataframe called `marker_color` to store the marker colors based on the `class` value\n",
      "metadata": {}
    },
    {
      "cell_type": "code",
      "source": "\n# Apply a function to check the value of `class` column\n# If class=1, marker_color value will be green\n# If class=0, marker_color value will be red\nspacex_df['marker_color'] = spacex_df['class'].apply(lambda x: 'green' if x == 1 else 'red')\n",
      "metadata": {
        "trusted": true
      },
      "outputs": [],
      "execution_count": 29
    },
    {
      "cell_type": "markdown",
      "source": "*TODO:* For each launch result in `spacex_df` data frame, add a `folium.Marker` to `marker_cluster`\n",
      "metadata": {}
    },
    {
      "cell_type": "code",
      "source": "# Add marker_cluster to current site_map\nsite_map.add_child(marker_cluster)\n\n# for each row in spacex_df data frame\n# create a Marker object with its coordinate\n# and customize the Marker's icon property to indicate if this launch was successed or failed, \n# e.g., icon=folium.Icon(color='white', icon_color=row['marker_color']\nfor index, record in spacex_df.iterrows():\n    color = record['marker_color']\n    folium.Marker(\n        location=[record['Lat'], record['Long']],\n        popup=folium.Popup(f\"{record['Launch Site']}: {'Success' if record['class'] == 1 else 'Failure'}\", parse_html=True),\n        icon=folium.Icon(color=color, icon='info-sign')\n    ).add_to(marker_cluster)\n\nsite_map",
      "metadata": {
        "trusted": true
      },
      "outputs": [
        {
          "execution_count": 30,
          "output_type": "execute_result",
          "data": {
            "text/plain": "<folium.folium.Map at 0x56c0980>",
            "text/html": "<div style=\"width:100%;\"><div style=\"position:relative;width:100%;height:0;padding-bottom:60%;\"><span style=\"color:#565656\">Make this Notebook Trusted to load map: File -> Trust Notebook</span><iframe srcdoc=\"&lt;!DOCTYPE html&gt;\n&lt;html&gt;\n&lt;head&gt;\n    \n    &lt;meta http-equiv=&quot;content-type&quot; content=&quot;text/html; charset=UTF-8&quot; /&gt;\n    \n        &lt;script&gt;\n            L_NO_TOUCH = false;\n            L_DISABLE_3D = false;\n        &lt;/script&gt;\n    \n    &lt;style&gt;html, body {width: 100%;height: 100%;margin: 0;padding: 0;}&lt;/style&gt;\n    &lt;style&gt;#map {position:absolute;top:0;bottom:0;right:0;left:0;}&lt;/style&gt;\n    &lt;script src=&quot;https://cdn.jsdelivr.net/npm/leaflet@1.9.3/dist/leaflet.js&quot;&gt;&lt;/script&gt;\n    &lt;script src=&quot;https://code.jquery.com/jquery-3.7.1.min.js&quot;&gt;&lt;/script&gt;\n    &lt;script src=&quot;https://cdn.jsdelivr.net/npm/bootstrap@5.2.2/dist/js/bootstrap.bundle.min.js&quot;&gt;&lt;/script&gt;\n    &lt;script src=&quot;https://cdnjs.cloudflare.com/ajax/libs/Leaflet.awesome-markers/2.0.2/leaflet.awesome-markers.js&quot;&gt;&lt;/script&gt;\n    &lt;link rel=&quot;stylesheet&quot; href=&quot;https://cdn.jsdelivr.net/npm/leaflet@1.9.3/dist/leaflet.css&quot;/&gt;\n    &lt;link rel=&quot;stylesheet&quot; href=&quot;https://cdn.jsdelivr.net/npm/bootstrap@5.2.2/dist/css/bootstrap.min.css&quot;/&gt;\n    &lt;link rel=&quot;stylesheet&quot; href=&quot;https://netdna.bootstrapcdn.com/bootstrap/3.0.0/css/bootstrap-glyphicons.css&quot;/&gt;\n    &lt;link rel=&quot;stylesheet&quot; href=&quot;https://cdn.jsdelivr.net/npm/@fortawesome/fontawesome-free@6.2.0/css/all.min.css&quot;/&gt;\n    &lt;link rel=&quot;stylesheet&quot; href=&quot;https://cdnjs.cloudflare.com/ajax/libs/Leaflet.awesome-markers/2.0.2/leaflet.awesome-markers.css&quot;/&gt;\n    &lt;link rel=&quot;stylesheet&quot; href=&quot;https://cdn.jsdelivr.net/gh/python-visualization/folium/folium/templates/leaflet.awesome.rotate.min.css&quot;/&gt;\n    \n            &lt;meta name=&quot;viewport&quot; content=&quot;width=device-width,\n                initial-scale=1.0, maximum-scale=1.0, user-scalable=no&quot; /&gt;\n            &lt;style&gt;\n                #map_7ef7415d8e47f104a67e049d1d6a2c3b {\n                    position: relative;\n                    width: 100.0%;\n                    height: 100.0%;\n                    left: 0.0%;\n                    top: 0.0%;\n                }\n                .leaflet-container { font-size: 1rem; }\n            &lt;/style&gt;\n        \n    &lt;script src=&quot;https://cdnjs.cloudflare.com/ajax/libs/leaflet.markercluster/1.1.0/leaflet.markercluster.js&quot;&gt;&lt;/script&gt;\n    &lt;link rel=&quot;stylesheet&quot; href=&quot;https://cdnjs.cloudflare.com/ajax/libs/leaflet.markercluster/1.1.0/MarkerCluster.css&quot;/&gt;\n    &lt;link rel=&quot;stylesheet&quot; href=&quot;https://cdnjs.cloudflare.com/ajax/libs/leaflet.markercluster/1.1.0/MarkerCluster.Default.css&quot;/&gt;\n&lt;/head&gt;\n&lt;body&gt;\n    \n    \n            &lt;div class=&quot;folium-map&quot; id=&quot;map_7ef7415d8e47f104a67e049d1d6a2c3b&quot; &gt;&lt;/div&gt;\n        \n&lt;/body&gt;\n&lt;script&gt;\n    \n    \n            var map_7ef7415d8e47f104a67e049d1d6a2c3b = L.map(\n                &quot;map_7ef7415d8e47f104a67e049d1d6a2c3b&quot;,\n                {\n                    center: [30.08267325, -90.603088],\n                    crs: L.CRS.EPSG3857,\n                    zoom: 5,\n                    zoomControl: true,\n                    preferCanvas: false,\n                }\n            );\n\n            \n\n        \n    \n            var tile_layer_a6a49f2e074b939781ce92997d582778 = L.tileLayer(\n                &quot;https://tile.openstreetmap.org/{z}/{x}/{y}.png&quot;,\n                {&quot;attribution&quot;: &quot;\\u0026copy; \\u003ca href=\\&quot;https://www.openstreetmap.org/copyright\\&quot;\\u003eOpenStreetMap\\u003c/a\\u003e contributors&quot;, &quot;detectRetina&quot;: false, &quot;maxNativeZoom&quot;: 19, &quot;maxZoom&quot;: 19, &quot;minZoom&quot;: 0, &quot;noWrap&quot;: false, &quot;opacity&quot;: 1, &quot;subdomains&quot;: &quot;abc&quot;, &quot;tms&quot;: false}\n            );\n        \n    \n            tile_layer_a6a49f2e074b939781ce92997d582778.addTo(map_7ef7415d8e47f104a67e049d1d6a2c3b);\n        \n    \n            var marker_0206c73f69ff4259b97d510be2e3ddd3 = L.marker(\n                [28.562302, -80.577356],\n                {}\n            ).addTo(map_7ef7415d8e47f104a67e049d1d6a2c3b);\n        \n    \n            var icon_a1e019db90aa160aef1b599755b3473a = L.AwesomeMarkers.icon(\n                {&quot;extraClasses&quot;: &quot;fa-rotate-0&quot;, &quot;icon&quot;: &quot;info-sign&quot;, &quot;iconColor&quot;: &quot;white&quot;, &quot;markerColor&quot;: &quot;green&quot;, &quot;prefix&quot;: &quot;glyphicon&quot;}\n            );\n            marker_0206c73f69ff4259b97d510be2e3ddd3.setIcon(icon_a1e019db90aa160aef1b599755b3473a);\n        \n    \n        var popup_32f7d4bb760b25ae0ae58d063342a43d = L.popup({&quot;maxWidth&quot;: &quot;100%&quot;});\n\n        \n            \n                var html_9b7e74480aa5effc10ec0877ea0bb828 = $(`&lt;div id=&quot;html_9b7e74480aa5effc10ec0877ea0bb828&quot; style=&quot;width: 100.0%; height: 100.0%;&quot;&gt;CCAFS LC-40: Success&lt;/div&gt;`)[0];\n                popup_32f7d4bb760b25ae0ae58d063342a43d.setContent(html_9b7e74480aa5effc10ec0877ea0bb828);\n            \n        \n\n        marker_0206c73f69ff4259b97d510be2e3ddd3.bindPopup(popup_32f7d4bb760b25ae0ae58d063342a43d)\n        ;\n\n        \n    \n    \n            var marker_63c4415b517b110b1731cfa76da9e01b = L.marker(\n                [28.562302, -80.577356],\n                {}\n            ).addTo(map_7ef7415d8e47f104a67e049d1d6a2c3b);\n        \n    \n            var icon_aedefce1e1a3d5d78a13a703612afff5 = L.AwesomeMarkers.icon(\n                {&quot;extraClasses&quot;: &quot;fa-rotate-0&quot;, &quot;icon&quot;: &quot;info-sign&quot;, &quot;iconColor&quot;: &quot;white&quot;, &quot;markerColor&quot;: &quot;red&quot;, &quot;prefix&quot;: &quot;glyphicon&quot;}\n            );\n            marker_63c4415b517b110b1731cfa76da9e01b.setIcon(icon_aedefce1e1a3d5d78a13a703612afff5);\n        \n    \n        var popup_a6652a4fd8d96f2e7a4bc32a1edc40ae = L.popup({&quot;maxWidth&quot;: &quot;100%&quot;});\n\n        \n            \n                var html_1d1bfc5f4260a253f33fbdef2cf75c72 = $(`&lt;div id=&quot;html_1d1bfc5f4260a253f33fbdef2cf75c72&quot; style=&quot;width: 100.0%; height: 100.0%;&quot;&gt;CCAFS LC-40: Failure&lt;/div&gt;`)[0];\n                popup_a6652a4fd8d96f2e7a4bc32a1edc40ae.setContent(html_1d1bfc5f4260a253f33fbdef2cf75c72);\n            \n        \n\n        marker_63c4415b517b110b1731cfa76da9e01b.bindPopup(popup_a6652a4fd8d96f2e7a4bc32a1edc40ae)\n        ;\n\n        \n    \n    \n            var marker_bcbb92de3c2318aa9a1292bc56057a1a = L.marker(\n                [28.573255, -80.646895],\n                {}\n            ).addTo(map_7ef7415d8e47f104a67e049d1d6a2c3b);\n        \n    \n            var icon_9e841dbf79856e46c31e8bd32890e4ff = L.AwesomeMarkers.icon(\n                {&quot;extraClasses&quot;: &quot;fa-rotate-0&quot;, &quot;icon&quot;: &quot;info-sign&quot;, &quot;iconColor&quot;: &quot;white&quot;, &quot;markerColor&quot;: &quot;green&quot;, &quot;prefix&quot;: &quot;glyphicon&quot;}\n            );\n            marker_bcbb92de3c2318aa9a1292bc56057a1a.setIcon(icon_9e841dbf79856e46c31e8bd32890e4ff);\n        \n    \n        var popup_fe12b7ad134feb7388aeca600e5098e9 = L.popup({&quot;maxWidth&quot;: &quot;100%&quot;});\n\n        \n            \n                var html_2c4e6987cf5e2b98b31858414026ef22 = $(`&lt;div id=&quot;html_2c4e6987cf5e2b98b31858414026ef22&quot; style=&quot;width: 100.0%; height: 100.0%;&quot;&gt;KSC LC-39A: Success&lt;/div&gt;`)[0];\n                popup_fe12b7ad134feb7388aeca600e5098e9.setContent(html_2c4e6987cf5e2b98b31858414026ef22);\n            \n        \n\n        marker_bcbb92de3c2318aa9a1292bc56057a1a.bindPopup(popup_fe12b7ad134feb7388aeca600e5098e9)\n        ;\n\n        \n    \n    \n            var marker_bc2da02218b2920274c465df251aed89 = L.marker(\n                [34.632834, -120.610745],\n                {}\n            ).addTo(map_7ef7415d8e47f104a67e049d1d6a2c3b);\n        \n    \n            var icon_f8449520e3223991b97d9a5dac03344b = L.AwesomeMarkers.icon(\n                {&quot;extraClasses&quot;: &quot;fa-rotate-0&quot;, &quot;icon&quot;: &quot;info-sign&quot;, &quot;iconColor&quot;: &quot;white&quot;, &quot;markerColor&quot;: &quot;green&quot;, &quot;prefix&quot;: &quot;glyphicon&quot;}\n            );\n            marker_bc2da02218b2920274c465df251aed89.setIcon(icon_f8449520e3223991b97d9a5dac03344b);\n        \n    \n        var popup_28f9f951e59b1e9218b8b7bed9d48d77 = L.popup({&quot;maxWidth&quot;: &quot;100%&quot;});\n\n        \n            \n                var html_adb00b4598400531a1c2316b2f92dc42 = $(`&lt;div id=&quot;html_adb00b4598400531a1c2316b2f92dc42&quot; style=&quot;width: 100.0%; height: 100.0%;&quot;&gt;VAFB SLC-4E: Success&lt;/div&gt;`)[0];\n                popup_28f9f951e59b1e9218b8b7bed9d48d77.setContent(html_adb00b4598400531a1c2316b2f92dc42);\n            \n        \n\n        marker_bc2da02218b2920274c465df251aed89.bindPopup(popup_28f9f951e59b1e9218b8b7bed9d48d77)\n        ;\n\n        \n    \n    \n            tile_layer_a6a49f2e074b939781ce92997d582778.addTo(map_7ef7415d8e47f104a67e049d1d6a2c3b);\n        \n    \n            var circle_c762259f832529b0fca8560b29534391 = L.circle(\n                [29.559684888503615, -95.0830971930759],\n                {&quot;bubblingMouseEvents&quot;: true, &quot;color&quot;: &quot;#d35400&quot;, &quot;dashArray&quot;: null, &quot;dashOffset&quot;: null, &quot;fill&quot;: true, &quot;fillColor&quot;: &quot;#d35400&quot;, &quot;fillOpacity&quot;: 0.2, &quot;fillRule&quot;: &quot;evenodd&quot;, &quot;lineCap&quot;: &quot;round&quot;, &quot;lineJoin&quot;: &quot;round&quot;, &quot;opacity&quot;: 1.0, &quot;radius&quot;: 1000, &quot;stroke&quot;: true, &quot;weight&quot;: 3}\n            ).addTo(map_7ef7415d8e47f104a67e049d1d6a2c3b);\n        \n    \n        var popup_9453eaeb24658d3d6f08487c0dceebc6 = L.popup({&quot;maxWidth&quot;: &quot;100%&quot;});\n\n        \n            \n                var html_c2a830f3fd5d7c5cdbb32e9a1333d7a2 = $(`&lt;div id=&quot;html_c2a830f3fd5d7c5cdbb32e9a1333d7a2&quot; style=&quot;width: 100.0%; height: 100.0%;&quot;&gt;NASA Johnson Space Center&lt;/div&gt;`)[0];\n                popup_9453eaeb24658d3d6f08487c0dceebc6.setContent(html_c2a830f3fd5d7c5cdbb32e9a1333d7a2);\n            \n        \n\n        circle_c762259f832529b0fca8560b29534391.bindPopup(popup_9453eaeb24658d3d6f08487c0dceebc6)\n        ;\n\n        \n    \n    \n            var marker_cb4f8c95b681a576e93d7d17c1ef7381 = L.marker(\n                [29.559684888503615, -95.0830971930759],\n                {}\n            ).addTo(marker_cluster_52627cab4eb6dc0b88f3b58f79f98b9a);\n        \n    \n            var div_icon_88e9c5c56d09f1842635be40dffd772e = L.divIcon({&quot;className&quot;: &quot;empty&quot;, &quot;html&quot;: &quot;\\u003cdiv style=\\&quot;font-size: 12; color:#d35400;\\&quot;\\u003e\\u003cb\\u003eNASA JSC\\u003c/b\\u003e\\u003c/div\\u003e&quot;, &quot;iconAnchor&quot;: [0, 0], &quot;iconSize&quot;: [20, 20]});\n            marker_cb4f8c95b681a576e93d7d17c1ef7381.setIcon(div_icon_88e9c5c56d09f1842635be40dffd772e);\n        \n    \n            tile_layer_a6a49f2e074b939781ce92997d582778.addTo(map_7ef7415d8e47f104a67e049d1d6a2c3b);\n        \n    \n            var marker_cluster_52627cab4eb6dc0b88f3b58f79f98b9a = L.markerClusterGroup(\n                {}\n            );\n        \n    \n            marker_cluster_52627cab4eb6dc0b88f3b58f79f98b9a.addTo(map_7ef7415d8e47f104a67e049d1d6a2c3b);\n        \n    \n            tile_layer_a6a49f2e074b939781ce92997d582778.addTo(map_7ef7415d8e47f104a67e049d1d6a2c3b);\n        \n    \n            marker_cluster_52627cab4eb6dc0b88f3b58f79f98b9a.addTo(map_7ef7415d8e47f104a67e049d1d6a2c3b);\n        \n    \n            var marker_ab806b8f47ddca6e7c2e6216b70e4d42 = L.marker(\n                [28.562302, -80.577356],\n                {}\n            ).addTo(marker_cluster_52627cab4eb6dc0b88f3b58f79f98b9a);\n        \n    \n            var icon_ea0e67353e322af6623cbbef26e3a03b = L.AwesomeMarkers.icon(\n                {&quot;extraClasses&quot;: &quot;fa-rotate-0&quot;, &quot;icon&quot;: &quot;info-sign&quot;, &quot;iconColor&quot;: &quot;white&quot;, &quot;markerColor&quot;: &quot;green&quot;, &quot;prefix&quot;: &quot;glyphicon&quot;}\n            );\n            marker_ab806b8f47ddca6e7c2e6216b70e4d42.setIcon(icon_ea0e67353e322af6623cbbef26e3a03b);\n        \n    \n        var popup_80f693a550ed721f29933c5b07fa34a3 = L.popup({&quot;maxWidth&quot;: &quot;100%&quot;});\n\n        \n            \n                var html_34d6a124f7535865e71eacb6fb0d452c = $(`&lt;div id=&quot;html_34d6a124f7535865e71eacb6fb0d452c&quot; style=&quot;width: 100.0%; height: 100.0%;&quot;&gt;CCAFS LC-40: Success&lt;/div&gt;`)[0];\n                popup_80f693a550ed721f29933c5b07fa34a3.setContent(html_34d6a124f7535865e71eacb6fb0d452c);\n            \n        \n\n        marker_ab806b8f47ddca6e7c2e6216b70e4d42.bindPopup(popup_80f693a550ed721f29933c5b07fa34a3)\n        ;\n\n        \n    \n    \n            var marker_2f7fd9ab5afa52ec3601b7e01a8f2665 = L.marker(\n                [28.562302, -80.577356],\n                {}\n            ).addTo(marker_cluster_52627cab4eb6dc0b88f3b58f79f98b9a);\n        \n    \n            var icon_2e80be9f6741ad68e60f84dedd8cd397 = L.AwesomeMarkers.icon(\n                {&quot;extraClasses&quot;: &quot;fa-rotate-0&quot;, &quot;icon&quot;: &quot;info-sign&quot;, &quot;iconColor&quot;: &quot;white&quot;, &quot;markerColor&quot;: &quot;red&quot;, &quot;prefix&quot;: &quot;glyphicon&quot;}\n            );\n            marker_2f7fd9ab5afa52ec3601b7e01a8f2665.setIcon(icon_2e80be9f6741ad68e60f84dedd8cd397);\n        \n    \n        var popup_d5bb9a6c4ba44a6b49ac65fd57080a65 = L.popup({&quot;maxWidth&quot;: &quot;100%&quot;});\n\n        \n            \n                var html_65e920cacc1d9b46a223e82c5a07f71b = $(`&lt;div id=&quot;html_65e920cacc1d9b46a223e82c5a07f71b&quot; style=&quot;width: 100.0%; height: 100.0%;&quot;&gt;CCAFS LC-40: Failure&lt;/div&gt;`)[0];\n                popup_d5bb9a6c4ba44a6b49ac65fd57080a65.setContent(html_65e920cacc1d9b46a223e82c5a07f71b);\n            \n        \n\n        marker_2f7fd9ab5afa52ec3601b7e01a8f2665.bindPopup(popup_d5bb9a6c4ba44a6b49ac65fd57080a65)\n        ;\n\n        \n    \n    \n            var marker_94f4c8610f62e446372c180ff212de6c = L.marker(\n                [28.573255, -80.646895],\n                {}\n            ).addTo(marker_cluster_52627cab4eb6dc0b88f3b58f79f98b9a);\n        \n    \n            var icon_cdcf879cd6cae93681c8cc146e8d2337 = L.AwesomeMarkers.icon(\n                {&quot;extraClasses&quot;: &quot;fa-rotate-0&quot;, &quot;icon&quot;: &quot;info-sign&quot;, &quot;iconColor&quot;: &quot;white&quot;, &quot;markerColor&quot;: &quot;green&quot;, &quot;prefix&quot;: &quot;glyphicon&quot;}\n            );\n            marker_94f4c8610f62e446372c180ff212de6c.setIcon(icon_cdcf879cd6cae93681c8cc146e8d2337);\n        \n    \n        var popup_a79552ef30698b58a3faa6306fa4d8a0 = L.popup({&quot;maxWidth&quot;: &quot;100%&quot;});\n\n        \n            \n                var html_55636537332da7d211e3633751638e33 = $(`&lt;div id=&quot;html_55636537332da7d211e3633751638e33&quot; style=&quot;width: 100.0%; height: 100.0%;&quot;&gt;KSC LC-39A: Success&lt;/div&gt;`)[0];\n                popup_a79552ef30698b58a3faa6306fa4d8a0.setContent(html_55636537332da7d211e3633751638e33);\n            \n        \n\n        marker_94f4c8610f62e446372c180ff212de6c.bindPopup(popup_a79552ef30698b58a3faa6306fa4d8a0)\n        ;\n\n        \n    \n    \n            var marker_b65c0e45d055eb98d8ebce76b32c0ecf = L.marker(\n                [34.632834, -120.610745],\n                {}\n            ).addTo(marker_cluster_52627cab4eb6dc0b88f3b58f79f98b9a);\n        \n    \n            var icon_de922dd3d87dc76930e63cb7b0bd3fd7 = L.AwesomeMarkers.icon(\n                {&quot;extraClasses&quot;: &quot;fa-rotate-0&quot;, &quot;icon&quot;: &quot;info-sign&quot;, &quot;iconColor&quot;: &quot;white&quot;, &quot;markerColor&quot;: &quot;green&quot;, &quot;prefix&quot;: &quot;glyphicon&quot;}\n            );\n            marker_b65c0e45d055eb98d8ebce76b32c0ecf.setIcon(icon_de922dd3d87dc76930e63cb7b0bd3fd7);\n        \n    \n        var popup_31fda60ac9906cfdabf4d4efd25def4a = L.popup({&quot;maxWidth&quot;: &quot;100%&quot;});\n\n        \n            \n                var html_4f88bafd69c5cca65aaa03033691d0fc = $(`&lt;div id=&quot;html_4f88bafd69c5cca65aaa03033691d0fc&quot; style=&quot;width: 100.0%; height: 100.0%;&quot;&gt;VAFB SLC-4E: Success&lt;/div&gt;`)[0];\n                popup_31fda60ac9906cfdabf4d4efd25def4a.setContent(html_4f88bafd69c5cca65aaa03033691d0fc);\n            \n        \n\n        marker_b65c0e45d055eb98d8ebce76b32c0ecf.bindPopup(popup_31fda60ac9906cfdabf4d4efd25def4a)\n        ;\n\n        \n    \n&lt;/script&gt;\n&lt;/html&gt;\" style=\"position:absolute;width:100%;height:100%;left:0;top:0;border:none !important;\" allowfullscreen webkitallowfullscreen mozallowfullscreen></iframe></div></div>"
          },
          "metadata": {}
        }
      ],
      "execution_count": 30
    },
    {
      "cell_type": "markdown",
      "source": "Your updated map may look like the following screenshots:\n",
      "metadata": {}
    },
    {
      "cell_type": "markdown",
      "source": "<center>\n    <img src=\"https://cf-courses-data.s3.us.cloud-object-storage.appdomain.cloud/IBM-DS0321EN-SkillsNetwork/labs/module_3/images/launch_site_marker_cluster.png\">\n</center>\n",
      "metadata": {}
    },
    {
      "cell_type": "markdown",
      "source": "<center>\n    <img src=\"https://cf-courses-data.s3.us.cloud-object-storage.appdomain.cloud/IBM-DS0321EN-SkillsNetwork/labs/module_3/images/launch_site_marker_cluster_zoomed.png\">\n</center>\n",
      "metadata": {}
    },
    {
      "cell_type": "markdown",
      "source": "From the color-labeled markers in marker clusters, you should be able to easily identify which launch sites have relatively high success rates.\n",
      "metadata": {}
    },
    {
      "cell_type": "code",
      "source": "# TASK 3: Calculate the distances between a launch site to its proximities\n",
      "metadata": {
        "trusted": true
      },
      "outputs": [],
      "execution_count": 31
    },
    {
      "cell_type": "markdown",
      "source": "Next, we need to explore and analyze the proximities of launch sites.\n",
      "metadata": {}
    },
    {
      "cell_type": "markdown",
      "source": "Let's first add a `MousePosition` on the map to get coordinate for a mouse over a point on the map. As such, while you are exploring the map, you can easily find the coordinates of any points of interests (such as railway)\n",
      "metadata": {}
    },
    {
      "cell_type": "code",
      "source": "# Add Mouse Position to get the coordinate (Lat, Long) for a mouse over on the map\nformatter = \"function(num) {return L.Util.formatNum(num, 5);};\"\nmouse_position = MousePosition(\n    position='topright',\n    separator=' Long: ',\n    empty_string='NaN',\n    lng_first=False,\n    num_digits=20,\n    prefix='Lat:',\n    lat_formatter=formatter,\n    lng_formatter=formatter,\n)\n\nsite_map.add_child(mouse_position)\nsite_map",
      "metadata": {
        "trusted": true
      },
      "outputs": [
        {
          "execution_count": 32,
          "output_type": "execute_result",
          "data": {
            "text/plain": "<folium.folium.Map at 0x56c0980>",
            "text/html": "<div style=\"width:100%;\"><div style=\"position:relative;width:100%;height:0;padding-bottom:60%;\"><span style=\"color:#565656\">Make this Notebook Trusted to load map: File -> Trust Notebook</span><iframe srcdoc=\"&lt;!DOCTYPE html&gt;\n&lt;html&gt;\n&lt;head&gt;\n    \n    &lt;meta http-equiv=&quot;content-type&quot; content=&quot;text/html; charset=UTF-8&quot; /&gt;\n    \n        &lt;script&gt;\n            L_NO_TOUCH = false;\n            L_DISABLE_3D = false;\n        &lt;/script&gt;\n    \n    &lt;style&gt;html, body {width: 100%;height: 100%;margin: 0;padding: 0;}&lt;/style&gt;\n    &lt;style&gt;#map {position:absolute;top:0;bottom:0;right:0;left:0;}&lt;/style&gt;\n    &lt;script src=&quot;https://cdn.jsdelivr.net/npm/leaflet@1.9.3/dist/leaflet.js&quot;&gt;&lt;/script&gt;\n    &lt;script src=&quot;https://code.jquery.com/jquery-3.7.1.min.js&quot;&gt;&lt;/script&gt;\n    &lt;script src=&quot;https://cdn.jsdelivr.net/npm/bootstrap@5.2.2/dist/js/bootstrap.bundle.min.js&quot;&gt;&lt;/script&gt;\n    &lt;script src=&quot;https://cdnjs.cloudflare.com/ajax/libs/Leaflet.awesome-markers/2.0.2/leaflet.awesome-markers.js&quot;&gt;&lt;/script&gt;\n    &lt;link rel=&quot;stylesheet&quot; href=&quot;https://cdn.jsdelivr.net/npm/leaflet@1.9.3/dist/leaflet.css&quot;/&gt;\n    &lt;link rel=&quot;stylesheet&quot; href=&quot;https://cdn.jsdelivr.net/npm/bootstrap@5.2.2/dist/css/bootstrap.min.css&quot;/&gt;\n    &lt;link rel=&quot;stylesheet&quot; href=&quot;https://netdna.bootstrapcdn.com/bootstrap/3.0.0/css/bootstrap-glyphicons.css&quot;/&gt;\n    &lt;link rel=&quot;stylesheet&quot; href=&quot;https://cdn.jsdelivr.net/npm/@fortawesome/fontawesome-free@6.2.0/css/all.min.css&quot;/&gt;\n    &lt;link rel=&quot;stylesheet&quot; href=&quot;https://cdnjs.cloudflare.com/ajax/libs/Leaflet.awesome-markers/2.0.2/leaflet.awesome-markers.css&quot;/&gt;\n    &lt;link rel=&quot;stylesheet&quot; href=&quot;https://cdn.jsdelivr.net/gh/python-visualization/folium/folium/templates/leaflet.awesome.rotate.min.css&quot;/&gt;\n    \n            &lt;meta name=&quot;viewport&quot; content=&quot;width=device-width,\n                initial-scale=1.0, maximum-scale=1.0, user-scalable=no&quot; /&gt;\n            &lt;style&gt;\n                #map_7ef7415d8e47f104a67e049d1d6a2c3b {\n                    position: relative;\n                    width: 100.0%;\n                    height: 100.0%;\n                    left: 0.0%;\n                    top: 0.0%;\n                }\n                .leaflet-container { font-size: 1rem; }\n            &lt;/style&gt;\n        \n    &lt;script src=&quot;https://cdnjs.cloudflare.com/ajax/libs/leaflet.markercluster/1.1.0/leaflet.markercluster.js&quot;&gt;&lt;/script&gt;\n    &lt;link rel=&quot;stylesheet&quot; href=&quot;https://cdnjs.cloudflare.com/ajax/libs/leaflet.markercluster/1.1.0/MarkerCluster.css&quot;/&gt;\n    &lt;link rel=&quot;stylesheet&quot; href=&quot;https://cdnjs.cloudflare.com/ajax/libs/leaflet.markercluster/1.1.0/MarkerCluster.Default.css&quot;/&gt;\n    &lt;script src=&quot;https://cdn.jsdelivr.net/gh/ardhi/Leaflet.MousePosition/src/L.Control.MousePosition.min.js&quot;&gt;&lt;/script&gt;\n    &lt;link rel=&quot;stylesheet&quot; href=&quot;https://cdn.jsdelivr.net/gh/ardhi/Leaflet.MousePosition/src/L.Control.MousePosition.min.css&quot;/&gt;\n&lt;/head&gt;\n&lt;body&gt;\n    \n    \n            &lt;div class=&quot;folium-map&quot; id=&quot;map_7ef7415d8e47f104a67e049d1d6a2c3b&quot; &gt;&lt;/div&gt;\n        \n&lt;/body&gt;\n&lt;script&gt;\n    \n    \n            var map_7ef7415d8e47f104a67e049d1d6a2c3b = L.map(\n                &quot;map_7ef7415d8e47f104a67e049d1d6a2c3b&quot;,\n                {\n                    center: [30.08267325, -90.603088],\n                    crs: L.CRS.EPSG3857,\n                    zoom: 5,\n                    zoomControl: true,\n                    preferCanvas: false,\n                }\n            );\n\n            \n\n        \n    \n            var tile_layer_a6a49f2e074b939781ce92997d582778 = L.tileLayer(\n                &quot;https://tile.openstreetmap.org/{z}/{x}/{y}.png&quot;,\n                {&quot;attribution&quot;: &quot;\\u0026copy; \\u003ca href=\\&quot;https://www.openstreetmap.org/copyright\\&quot;\\u003eOpenStreetMap\\u003c/a\\u003e contributors&quot;, &quot;detectRetina&quot;: false, &quot;maxNativeZoom&quot;: 19, &quot;maxZoom&quot;: 19, &quot;minZoom&quot;: 0, &quot;noWrap&quot;: false, &quot;opacity&quot;: 1, &quot;subdomains&quot;: &quot;abc&quot;, &quot;tms&quot;: false}\n            );\n        \n    \n            tile_layer_a6a49f2e074b939781ce92997d582778.addTo(map_7ef7415d8e47f104a67e049d1d6a2c3b);\n        \n    \n            var marker_0206c73f69ff4259b97d510be2e3ddd3 = L.marker(\n                [28.562302, -80.577356],\n                {}\n            ).addTo(map_7ef7415d8e47f104a67e049d1d6a2c3b);\n        \n    \n            var icon_a1e019db90aa160aef1b599755b3473a = L.AwesomeMarkers.icon(\n                {&quot;extraClasses&quot;: &quot;fa-rotate-0&quot;, &quot;icon&quot;: &quot;info-sign&quot;, &quot;iconColor&quot;: &quot;white&quot;, &quot;markerColor&quot;: &quot;green&quot;, &quot;prefix&quot;: &quot;glyphicon&quot;}\n            );\n            marker_0206c73f69ff4259b97d510be2e3ddd3.setIcon(icon_a1e019db90aa160aef1b599755b3473a);\n        \n    \n        var popup_32f7d4bb760b25ae0ae58d063342a43d = L.popup({&quot;maxWidth&quot;: &quot;100%&quot;});\n\n        \n            \n                var html_9b7e74480aa5effc10ec0877ea0bb828 = $(`&lt;div id=&quot;html_9b7e74480aa5effc10ec0877ea0bb828&quot; style=&quot;width: 100.0%; height: 100.0%;&quot;&gt;CCAFS LC-40: Success&lt;/div&gt;`)[0];\n                popup_32f7d4bb760b25ae0ae58d063342a43d.setContent(html_9b7e74480aa5effc10ec0877ea0bb828);\n            \n        \n\n        marker_0206c73f69ff4259b97d510be2e3ddd3.bindPopup(popup_32f7d4bb760b25ae0ae58d063342a43d)\n        ;\n\n        \n    \n    \n            var marker_63c4415b517b110b1731cfa76da9e01b = L.marker(\n                [28.562302, -80.577356],\n                {}\n            ).addTo(map_7ef7415d8e47f104a67e049d1d6a2c3b);\n        \n    \n            var icon_aedefce1e1a3d5d78a13a703612afff5 = L.AwesomeMarkers.icon(\n                {&quot;extraClasses&quot;: &quot;fa-rotate-0&quot;, &quot;icon&quot;: &quot;info-sign&quot;, &quot;iconColor&quot;: &quot;white&quot;, &quot;markerColor&quot;: &quot;red&quot;, &quot;prefix&quot;: &quot;glyphicon&quot;}\n            );\n            marker_63c4415b517b110b1731cfa76da9e01b.setIcon(icon_aedefce1e1a3d5d78a13a703612afff5);\n        \n    \n        var popup_a6652a4fd8d96f2e7a4bc32a1edc40ae = L.popup({&quot;maxWidth&quot;: &quot;100%&quot;});\n\n        \n            \n                var html_1d1bfc5f4260a253f33fbdef2cf75c72 = $(`&lt;div id=&quot;html_1d1bfc5f4260a253f33fbdef2cf75c72&quot; style=&quot;width: 100.0%; height: 100.0%;&quot;&gt;CCAFS LC-40: Failure&lt;/div&gt;`)[0];\n                popup_a6652a4fd8d96f2e7a4bc32a1edc40ae.setContent(html_1d1bfc5f4260a253f33fbdef2cf75c72);\n            \n        \n\n        marker_63c4415b517b110b1731cfa76da9e01b.bindPopup(popup_a6652a4fd8d96f2e7a4bc32a1edc40ae)\n        ;\n\n        \n    \n    \n            var marker_bcbb92de3c2318aa9a1292bc56057a1a = L.marker(\n                [28.573255, -80.646895],\n                {}\n            ).addTo(map_7ef7415d8e47f104a67e049d1d6a2c3b);\n        \n    \n            var icon_9e841dbf79856e46c31e8bd32890e4ff = L.AwesomeMarkers.icon(\n                {&quot;extraClasses&quot;: &quot;fa-rotate-0&quot;, &quot;icon&quot;: &quot;info-sign&quot;, &quot;iconColor&quot;: &quot;white&quot;, &quot;markerColor&quot;: &quot;green&quot;, &quot;prefix&quot;: &quot;glyphicon&quot;}\n            );\n            marker_bcbb92de3c2318aa9a1292bc56057a1a.setIcon(icon_9e841dbf79856e46c31e8bd32890e4ff);\n        \n    \n        var popup_fe12b7ad134feb7388aeca600e5098e9 = L.popup({&quot;maxWidth&quot;: &quot;100%&quot;});\n\n        \n            \n                var html_2c4e6987cf5e2b98b31858414026ef22 = $(`&lt;div id=&quot;html_2c4e6987cf5e2b98b31858414026ef22&quot; style=&quot;width: 100.0%; height: 100.0%;&quot;&gt;KSC LC-39A: Success&lt;/div&gt;`)[0];\n                popup_fe12b7ad134feb7388aeca600e5098e9.setContent(html_2c4e6987cf5e2b98b31858414026ef22);\n            \n        \n\n        marker_bcbb92de3c2318aa9a1292bc56057a1a.bindPopup(popup_fe12b7ad134feb7388aeca600e5098e9)\n        ;\n\n        \n    \n    \n            var marker_bc2da02218b2920274c465df251aed89 = L.marker(\n                [34.632834, -120.610745],\n                {}\n            ).addTo(map_7ef7415d8e47f104a67e049d1d6a2c3b);\n        \n    \n            var icon_f8449520e3223991b97d9a5dac03344b = L.AwesomeMarkers.icon(\n                {&quot;extraClasses&quot;: &quot;fa-rotate-0&quot;, &quot;icon&quot;: &quot;info-sign&quot;, &quot;iconColor&quot;: &quot;white&quot;, &quot;markerColor&quot;: &quot;green&quot;, &quot;prefix&quot;: &quot;glyphicon&quot;}\n            );\n            marker_bc2da02218b2920274c465df251aed89.setIcon(icon_f8449520e3223991b97d9a5dac03344b);\n        \n    \n        var popup_28f9f951e59b1e9218b8b7bed9d48d77 = L.popup({&quot;maxWidth&quot;: &quot;100%&quot;});\n\n        \n            \n                var html_adb00b4598400531a1c2316b2f92dc42 = $(`&lt;div id=&quot;html_adb00b4598400531a1c2316b2f92dc42&quot; style=&quot;width: 100.0%; height: 100.0%;&quot;&gt;VAFB SLC-4E: Success&lt;/div&gt;`)[0];\n                popup_28f9f951e59b1e9218b8b7bed9d48d77.setContent(html_adb00b4598400531a1c2316b2f92dc42);\n            \n        \n\n        marker_bc2da02218b2920274c465df251aed89.bindPopup(popup_28f9f951e59b1e9218b8b7bed9d48d77)\n        ;\n\n        \n    \n    \n            tile_layer_a6a49f2e074b939781ce92997d582778.addTo(map_7ef7415d8e47f104a67e049d1d6a2c3b);\n        \n    \n            var circle_c762259f832529b0fca8560b29534391 = L.circle(\n                [29.559684888503615, -95.0830971930759],\n                {&quot;bubblingMouseEvents&quot;: true, &quot;color&quot;: &quot;#d35400&quot;, &quot;dashArray&quot;: null, &quot;dashOffset&quot;: null, &quot;fill&quot;: true, &quot;fillColor&quot;: &quot;#d35400&quot;, &quot;fillOpacity&quot;: 0.2, &quot;fillRule&quot;: &quot;evenodd&quot;, &quot;lineCap&quot;: &quot;round&quot;, &quot;lineJoin&quot;: &quot;round&quot;, &quot;opacity&quot;: 1.0, &quot;radius&quot;: 1000, &quot;stroke&quot;: true, &quot;weight&quot;: 3}\n            ).addTo(map_7ef7415d8e47f104a67e049d1d6a2c3b);\n        \n    \n        var popup_9453eaeb24658d3d6f08487c0dceebc6 = L.popup({&quot;maxWidth&quot;: &quot;100%&quot;});\n\n        \n            \n                var html_c2a830f3fd5d7c5cdbb32e9a1333d7a2 = $(`&lt;div id=&quot;html_c2a830f3fd5d7c5cdbb32e9a1333d7a2&quot; style=&quot;width: 100.0%; height: 100.0%;&quot;&gt;NASA Johnson Space Center&lt;/div&gt;`)[0];\n                popup_9453eaeb24658d3d6f08487c0dceebc6.setContent(html_c2a830f3fd5d7c5cdbb32e9a1333d7a2);\n            \n        \n\n        circle_c762259f832529b0fca8560b29534391.bindPopup(popup_9453eaeb24658d3d6f08487c0dceebc6)\n        ;\n\n        \n    \n    \n            var marker_cb4f8c95b681a576e93d7d17c1ef7381 = L.marker(\n                [29.559684888503615, -95.0830971930759],\n                {}\n            ).addTo(marker_cluster_52627cab4eb6dc0b88f3b58f79f98b9a);\n        \n    \n            var div_icon_88e9c5c56d09f1842635be40dffd772e = L.divIcon({&quot;className&quot;: &quot;empty&quot;, &quot;html&quot;: &quot;\\u003cdiv style=\\&quot;font-size: 12; color:#d35400;\\&quot;\\u003e\\u003cb\\u003eNASA JSC\\u003c/b\\u003e\\u003c/div\\u003e&quot;, &quot;iconAnchor&quot;: [0, 0], &quot;iconSize&quot;: [20, 20]});\n            marker_cb4f8c95b681a576e93d7d17c1ef7381.setIcon(div_icon_88e9c5c56d09f1842635be40dffd772e);\n        \n    \n            tile_layer_a6a49f2e074b939781ce92997d582778.addTo(map_7ef7415d8e47f104a67e049d1d6a2c3b);\n        \n    \n            var marker_cluster_52627cab4eb6dc0b88f3b58f79f98b9a = L.markerClusterGroup(\n                {}\n            );\n        \n    \n            marker_cluster_52627cab4eb6dc0b88f3b58f79f98b9a.addTo(map_7ef7415d8e47f104a67e049d1d6a2c3b);\n        \n    \n            tile_layer_a6a49f2e074b939781ce92997d582778.addTo(map_7ef7415d8e47f104a67e049d1d6a2c3b);\n        \n    \n            marker_cluster_52627cab4eb6dc0b88f3b58f79f98b9a.addTo(map_7ef7415d8e47f104a67e049d1d6a2c3b);\n        \n    \n            var marker_ab806b8f47ddca6e7c2e6216b70e4d42 = L.marker(\n                [28.562302, -80.577356],\n                {}\n            ).addTo(marker_cluster_52627cab4eb6dc0b88f3b58f79f98b9a);\n        \n    \n            var icon_ea0e67353e322af6623cbbef26e3a03b = L.AwesomeMarkers.icon(\n                {&quot;extraClasses&quot;: &quot;fa-rotate-0&quot;, &quot;icon&quot;: &quot;info-sign&quot;, &quot;iconColor&quot;: &quot;white&quot;, &quot;markerColor&quot;: &quot;green&quot;, &quot;prefix&quot;: &quot;glyphicon&quot;}\n            );\n            marker_ab806b8f47ddca6e7c2e6216b70e4d42.setIcon(icon_ea0e67353e322af6623cbbef26e3a03b);\n        \n    \n        var popup_80f693a550ed721f29933c5b07fa34a3 = L.popup({&quot;maxWidth&quot;: &quot;100%&quot;});\n\n        \n            \n                var html_34d6a124f7535865e71eacb6fb0d452c = $(`&lt;div id=&quot;html_34d6a124f7535865e71eacb6fb0d452c&quot; style=&quot;width: 100.0%; height: 100.0%;&quot;&gt;CCAFS LC-40: Success&lt;/div&gt;`)[0];\n                popup_80f693a550ed721f29933c5b07fa34a3.setContent(html_34d6a124f7535865e71eacb6fb0d452c);\n            \n        \n\n        marker_ab806b8f47ddca6e7c2e6216b70e4d42.bindPopup(popup_80f693a550ed721f29933c5b07fa34a3)\n        ;\n\n        \n    \n    \n            var marker_2f7fd9ab5afa52ec3601b7e01a8f2665 = L.marker(\n                [28.562302, -80.577356],\n                {}\n            ).addTo(marker_cluster_52627cab4eb6dc0b88f3b58f79f98b9a);\n        \n    \n            var icon_2e80be9f6741ad68e60f84dedd8cd397 = L.AwesomeMarkers.icon(\n                {&quot;extraClasses&quot;: &quot;fa-rotate-0&quot;, &quot;icon&quot;: &quot;info-sign&quot;, &quot;iconColor&quot;: &quot;white&quot;, &quot;markerColor&quot;: &quot;red&quot;, &quot;prefix&quot;: &quot;glyphicon&quot;}\n            );\n            marker_2f7fd9ab5afa52ec3601b7e01a8f2665.setIcon(icon_2e80be9f6741ad68e60f84dedd8cd397);\n        \n    \n        var popup_d5bb9a6c4ba44a6b49ac65fd57080a65 = L.popup({&quot;maxWidth&quot;: &quot;100%&quot;});\n\n        \n            \n                var html_65e920cacc1d9b46a223e82c5a07f71b = $(`&lt;div id=&quot;html_65e920cacc1d9b46a223e82c5a07f71b&quot; style=&quot;width: 100.0%; height: 100.0%;&quot;&gt;CCAFS LC-40: Failure&lt;/div&gt;`)[0];\n                popup_d5bb9a6c4ba44a6b49ac65fd57080a65.setContent(html_65e920cacc1d9b46a223e82c5a07f71b);\n            \n        \n\n        marker_2f7fd9ab5afa52ec3601b7e01a8f2665.bindPopup(popup_d5bb9a6c4ba44a6b49ac65fd57080a65)\n        ;\n\n        \n    \n    \n            var marker_94f4c8610f62e446372c180ff212de6c = L.marker(\n                [28.573255, -80.646895],\n                {}\n            ).addTo(marker_cluster_52627cab4eb6dc0b88f3b58f79f98b9a);\n        \n    \n            var icon_cdcf879cd6cae93681c8cc146e8d2337 = L.AwesomeMarkers.icon(\n                {&quot;extraClasses&quot;: &quot;fa-rotate-0&quot;, &quot;icon&quot;: &quot;info-sign&quot;, &quot;iconColor&quot;: &quot;white&quot;, &quot;markerColor&quot;: &quot;green&quot;, &quot;prefix&quot;: &quot;glyphicon&quot;}\n            );\n            marker_94f4c8610f62e446372c180ff212de6c.setIcon(icon_cdcf879cd6cae93681c8cc146e8d2337);\n        \n    \n        var popup_a79552ef30698b58a3faa6306fa4d8a0 = L.popup({&quot;maxWidth&quot;: &quot;100%&quot;});\n\n        \n            \n                var html_55636537332da7d211e3633751638e33 = $(`&lt;div id=&quot;html_55636537332da7d211e3633751638e33&quot; style=&quot;width: 100.0%; height: 100.0%;&quot;&gt;KSC LC-39A: Success&lt;/div&gt;`)[0];\n                popup_a79552ef30698b58a3faa6306fa4d8a0.setContent(html_55636537332da7d211e3633751638e33);\n            \n        \n\n        marker_94f4c8610f62e446372c180ff212de6c.bindPopup(popup_a79552ef30698b58a3faa6306fa4d8a0)\n        ;\n\n        \n    \n    \n            var marker_b65c0e45d055eb98d8ebce76b32c0ecf = L.marker(\n                [34.632834, -120.610745],\n                {}\n            ).addTo(marker_cluster_52627cab4eb6dc0b88f3b58f79f98b9a);\n        \n    \n            var icon_de922dd3d87dc76930e63cb7b0bd3fd7 = L.AwesomeMarkers.icon(\n                {&quot;extraClasses&quot;: &quot;fa-rotate-0&quot;, &quot;icon&quot;: &quot;info-sign&quot;, &quot;iconColor&quot;: &quot;white&quot;, &quot;markerColor&quot;: &quot;green&quot;, &quot;prefix&quot;: &quot;glyphicon&quot;}\n            );\n            marker_b65c0e45d055eb98d8ebce76b32c0ecf.setIcon(icon_de922dd3d87dc76930e63cb7b0bd3fd7);\n        \n    \n        var popup_31fda60ac9906cfdabf4d4efd25def4a = L.popup({&quot;maxWidth&quot;: &quot;100%&quot;});\n\n        \n            \n                var html_4f88bafd69c5cca65aaa03033691d0fc = $(`&lt;div id=&quot;html_4f88bafd69c5cca65aaa03033691d0fc&quot; style=&quot;width: 100.0%; height: 100.0%;&quot;&gt;VAFB SLC-4E: Success&lt;/div&gt;`)[0];\n                popup_31fda60ac9906cfdabf4d4efd25def4a.setContent(html_4f88bafd69c5cca65aaa03033691d0fc);\n            \n        \n\n        marker_b65c0e45d055eb98d8ebce76b32c0ecf.bindPopup(popup_31fda60ac9906cfdabf4d4efd25def4a)\n        ;\n\n        \n    \n    \n            tile_layer_a6a49f2e074b939781ce92997d582778.addTo(map_7ef7415d8e47f104a67e049d1d6a2c3b);\n        \n    \n            marker_cluster_52627cab4eb6dc0b88f3b58f79f98b9a.addTo(map_7ef7415d8e47f104a67e049d1d6a2c3b);\n        \n    \n            var mouse_position_831bd1bf11cfdfd05e7fa784a2cb91f1 = new L.Control.MousePosition(\n                {&quot;emptyString&quot;: &quot;NaN&quot;, &quot;lngFirst&quot;: false, &quot;numDigits&quot;: 20, &quot;position&quot;: &quot;topright&quot;, &quot;prefix&quot;: &quot;Lat:&quot;, &quot;separator&quot;: &quot; Long: &quot;}\n            );\n            mouse_position_831bd1bf11cfdfd05e7fa784a2cb91f1.options[&quot;latFormatter&quot;] =\n                function(num) {return L.Util.formatNum(num, 5);};;\n            mouse_position_831bd1bf11cfdfd05e7fa784a2cb91f1.options[&quot;lngFormatter&quot;] =\n                function(num) {return L.Util.formatNum(num, 5);};;\n            map_7ef7415d8e47f104a67e049d1d6a2c3b.addControl(mouse_position_831bd1bf11cfdfd05e7fa784a2cb91f1);\n        \n&lt;/script&gt;\n&lt;/html&gt;\" style=\"position:absolute;width:100%;height:100%;left:0;top:0;border:none !important;\" allowfullscreen webkitallowfullscreen mozallowfullscreen></iframe></div></div>"
          },
          "metadata": {}
        }
      ],
      "execution_count": 32
    },
    {
      "cell_type": "markdown",
      "source": "Now zoom in to a launch site and explore its proximity to see if you can easily find any railway, highway, coastline, etc. Move your mouse to these points and mark down their coordinates (shown on the top-left) in order to the distance to the launch site.\n",
      "metadata": {}
    },
    {
      "cell_type": "markdown",
      "source": "Now zoom in to a launch site and explore its proximity to see if you can easily find any railway, highway, coastline, etc. Move your mouse to these points and mark down their coordinates (shown on the top-left) in order to the distance to the launch site.\n",
      "metadata": {}
    },
    {
      "cell_type": "code",
      "source": "from math import sin, cos, sqrt, atan2, radians\n\ndef calculate_distance(lat1, lon1, lat2, lon2):\n    # approximate radius of earth in km\n    R = 6373.0\n\n    lat1 = radians(lat1)\n    lon1 = radians(lon1)\n    lat2 = radians(lat2)\n    lon2 = radians(lon2)\n\n    dlon = lon2 - lon1\n    dlat = lat2 - lat1\n\n    a = sin(dlat / 2)**2 + cos(lat1) * cos(lat2) * sin(dlon / 2)**2\n    c = 2 * atan2(sqrt(a), sqrt(1 - a))\n\n    distance = R * c\n    return distance",
      "metadata": {
        "trusted": true
      },
      "outputs": [],
      "execution_count": 33
    },
    {
      "cell_type": "markdown",
      "source": "*TODO:* Mark down a point on the closest coastline using MousePosition and calculate the distance between the coastline point and the launch site.\n",
      "metadata": {}
    },
    {
      "cell_type": "code",
      "source": "import math\n\ndef haversine(lat1, lon1, lat2, lon2):\n    R = 6371  # Raio da Terra em quilômetros\n    phi1 = math.radians(lat1)\n    phi2 = math.radians(lat2)\n    delta_phi = math.radians(lat2 - lat1)\n    delta_lambda = math.radians(lon2 - lon1)\n\n    a = math.sin(delta_phi / 2)**2 + math.cos(phi1) * math.cos(phi2) * math.sin(delta_lambda / 2)**2\n    c = 2 * math.atan2(math.sqrt(a), math.sqrt(1 - a))\n\n    return R * c  # Distância em quilômetros\n",
      "metadata": {
        "trusted": true
      },
      "outputs": [],
      "execution_count": 42
    },
    {
      "cell_type": "code",
      "source": "# find coordinate of the closet coastline\n# e.g.,: Lat: 28.56367  Lon: -80.57163\n# distance_coastline = calculate_distance(launch_site_lat, launch_site_lon, coastline_lat, coastline_lon)\n\nlaunch_site_lat, launch_site_lon = 28.562302, -80.577356  # Coordenadas do local de lançamento\ncoastline_lat, coastline_lon = 28.56367, -80.57163  # Coordenadas da costa mais próxima\ndistance_coastline = haversine(launch_site_lat, launch_site_lon, coastline_lat, coastline_lon)\nsite_map = folium.Map(location=[launch_site_lat, launch_site_lon], zoom_start=10)",
      "metadata": {
        "trusted": true
      },
      "outputs": [],
      "execution_count": 43
    },
    {
      "cell_type": "code",
      "source": "# Create and add a folium.Marker on your selected closest coastline point on the map\n# Display the distance between coastline point and launch site using the icon property \n# for example\n# distance_marker = folium.Marker(\n#    coordinate,\n#    icon=DivIcon(\n#        icon_size=(20,20),\n#        icon_anchor=(0,0),\n#        html='<div style=\"font-size: 12; color:#d35400;\"><b>%s</b></div>' % \"{:10.2f} KM\".format(distance),\n#        )\n#    )\nfolium.Marker(\n    location=[launch_site_lat, launch_site_lon],\n    popup='Launch Site',\n    icon=folium.Icon(color='blue', icon='rocket')\n).add_to(site_map)\n\n# Adicionar marcador para a costa mais próxima\nfolium.Marker(\n    location=[coastline_lat, coastline_lon],\n    popup='Closest Coastline',\n    icon=folium.Icon(color='green', icon='info-sign')\n).add_to(site_map)\n\n# Adicionar um círculo representando a distância entre o local de lançamento e a costa\nfolium.Circle(\n    location=[launch_site_lat, launch_site_lon],\n    radius=distance_coastline * 1000,  # Convertendo para metros\n    color='blue',\n    fill=True,\n    fill_color='blue',\n    fill_opacity=0.2,\n    popup='Distance to Coastline: {:.2f} KM'.format(distance_coastline)\n).add_to(site_map)",
      "metadata": {
        "trusted": true
      },
      "outputs": [
        {
          "execution_count": 46,
          "output_type": "execute_result",
          "data": {
            "text/plain": "<folium.vector_layers.Circle at 0x6fc5c28>"
          },
          "metadata": {}
        }
      ],
      "execution_count": 46
    },
    {
      "cell_type": "markdown",
      "source": "*TODO:* Draw a `PolyLine` between a launch site to the selected coastline point\n",
      "metadata": {}
    },
    {
      "cell_type": "code",
      "source": "# Create a `folium.PolyLine` object using the coastline coordinates and launch site coordinate\ncoordinates = [\n    [launch_site_lat, launch_site_lon],\n    [coastline_lat, coastline_lon]\n]\nlines = folium.PolyLine(locations=coordinates, weight=2, color='red', opacity=0.7)\nsite_map.add_child(lines)",
      "metadata": {
        "trusted": true
      },
      "outputs": [
        {
          "execution_count": 49,
          "output_type": "execute_result",
          "data": {
            "text/plain": "<folium.folium.Map at 0x6fa8d78>",
            "text/html": "<div style=\"width:100%;\"><div style=\"position:relative;width:100%;height:0;padding-bottom:60%;\"><span style=\"color:#565656\">Make this Notebook Trusted to load map: File -> Trust Notebook</span><iframe srcdoc=\"&lt;!DOCTYPE html&gt;\n&lt;html&gt;\n&lt;head&gt;\n    \n    &lt;meta http-equiv=&quot;content-type&quot; content=&quot;text/html; charset=UTF-8&quot; /&gt;\n    \n        &lt;script&gt;\n            L_NO_TOUCH = false;\n            L_DISABLE_3D = false;\n        &lt;/script&gt;\n    \n    &lt;style&gt;html, body {width: 100%;height: 100%;margin: 0;padding: 0;}&lt;/style&gt;\n    &lt;style&gt;#map {position:absolute;top:0;bottom:0;right:0;left:0;}&lt;/style&gt;\n    &lt;script src=&quot;https://cdn.jsdelivr.net/npm/leaflet@1.9.3/dist/leaflet.js&quot;&gt;&lt;/script&gt;\n    &lt;script src=&quot;https://code.jquery.com/jquery-3.7.1.min.js&quot;&gt;&lt;/script&gt;\n    &lt;script src=&quot;https://cdn.jsdelivr.net/npm/bootstrap@5.2.2/dist/js/bootstrap.bundle.min.js&quot;&gt;&lt;/script&gt;\n    &lt;script src=&quot;https://cdnjs.cloudflare.com/ajax/libs/Leaflet.awesome-markers/2.0.2/leaflet.awesome-markers.js&quot;&gt;&lt;/script&gt;\n    &lt;link rel=&quot;stylesheet&quot; href=&quot;https://cdn.jsdelivr.net/npm/leaflet@1.9.3/dist/leaflet.css&quot;/&gt;\n    &lt;link rel=&quot;stylesheet&quot; href=&quot;https://cdn.jsdelivr.net/npm/bootstrap@5.2.2/dist/css/bootstrap.min.css&quot;/&gt;\n    &lt;link rel=&quot;stylesheet&quot; href=&quot;https://netdna.bootstrapcdn.com/bootstrap/3.0.0/css/bootstrap-glyphicons.css&quot;/&gt;\n    &lt;link rel=&quot;stylesheet&quot; href=&quot;https://cdn.jsdelivr.net/npm/@fortawesome/fontawesome-free@6.2.0/css/all.min.css&quot;/&gt;\n    &lt;link rel=&quot;stylesheet&quot; href=&quot;https://cdnjs.cloudflare.com/ajax/libs/Leaflet.awesome-markers/2.0.2/leaflet.awesome-markers.css&quot;/&gt;\n    &lt;link rel=&quot;stylesheet&quot; href=&quot;https://cdn.jsdelivr.net/gh/python-visualization/folium/folium/templates/leaflet.awesome.rotate.min.css&quot;/&gt;\n    \n            &lt;meta name=&quot;viewport&quot; content=&quot;width=device-width,\n                initial-scale=1.0, maximum-scale=1.0, user-scalable=no&quot; /&gt;\n            &lt;style&gt;\n                #map_13751b86a8080d098860958239fb1c9d {\n                    position: relative;\n                    width: 100.0%;\n                    height: 100.0%;\n                    left: 0.0%;\n                    top: 0.0%;\n                }\n                .leaflet-container { font-size: 1rem; }\n            &lt;/style&gt;\n        \n&lt;/head&gt;\n&lt;body&gt;\n    \n    \n            &lt;div class=&quot;folium-map&quot; id=&quot;map_13751b86a8080d098860958239fb1c9d&quot; &gt;&lt;/div&gt;\n        \n&lt;/body&gt;\n&lt;script&gt;\n    \n    \n            var map_13751b86a8080d098860958239fb1c9d = L.map(\n                &quot;map_13751b86a8080d098860958239fb1c9d&quot;,\n                {\n                    center: [28.562302, -80.577356],\n                    crs: L.CRS.EPSG3857,\n                    zoom: 10,\n                    zoomControl: true,\n                    preferCanvas: false,\n                }\n            );\n\n            \n\n        \n    \n            var tile_layer_635ec54f3bbbab1a292f582e35b4260b = L.tileLayer(\n                &quot;https://tile.openstreetmap.org/{z}/{x}/{y}.png&quot;,\n                {&quot;attribution&quot;: &quot;\\u0026copy; \\u003ca href=\\&quot;https://www.openstreetmap.org/copyright\\&quot;\\u003eOpenStreetMap\\u003c/a\\u003e contributors&quot;, &quot;detectRetina&quot;: false, &quot;maxNativeZoom&quot;: 19, &quot;maxZoom&quot;: 19, &quot;minZoom&quot;: 0, &quot;noWrap&quot;: false, &quot;opacity&quot;: 1, &quot;subdomains&quot;: &quot;abc&quot;, &quot;tms&quot;: false}\n            );\n        \n    \n            tile_layer_635ec54f3bbbab1a292f582e35b4260b.addTo(map_13751b86a8080d098860958239fb1c9d);\n        \n    \n            var marker_8f544ec33793056d03560793c4940158 = L.marker(\n                [28.562302, -80.577356],\n                {}\n            ).addTo(map_13751b86a8080d098860958239fb1c9d);\n        \n    \n            var icon_7bc4652f2daa446f5f1be9544923cc7d = L.AwesomeMarkers.icon(\n                {&quot;extraClasses&quot;: &quot;fa-rotate-0&quot;, &quot;icon&quot;: &quot;rocket&quot;, &quot;iconColor&quot;: &quot;white&quot;, &quot;markerColor&quot;: &quot;blue&quot;, &quot;prefix&quot;: &quot;glyphicon&quot;}\n            );\n            marker_8f544ec33793056d03560793c4940158.setIcon(icon_7bc4652f2daa446f5f1be9544923cc7d);\n        \n    \n        var popup_2004f23ff26406e7e241a40b9302cce2 = L.popup({&quot;maxWidth&quot;: &quot;100%&quot;});\n\n        \n            \n                var html_291411573c6f14380a05052fcc34ad2f = $(`&lt;div id=&quot;html_291411573c6f14380a05052fcc34ad2f&quot; style=&quot;width: 100.0%; height: 100.0%;&quot;&gt;Launch Site&lt;/div&gt;`)[0];\n                popup_2004f23ff26406e7e241a40b9302cce2.setContent(html_291411573c6f14380a05052fcc34ad2f);\n            \n        \n\n        marker_8f544ec33793056d03560793c4940158.bindPopup(popup_2004f23ff26406e7e241a40b9302cce2)\n        ;\n\n        \n    \n    \n            var marker_473ecae7995a430fb91c841ca53238be = L.marker(\n                [28.56367, -80.57163],\n                {}\n            ).addTo(map_13751b86a8080d098860958239fb1c9d);\n        \n    \n            var icon_27d7f837cc782451e1ce50ae510ddc24 = L.AwesomeMarkers.icon(\n                {&quot;extraClasses&quot;: &quot;fa-rotate-0&quot;, &quot;icon&quot;: &quot;info-sign&quot;, &quot;iconColor&quot;: &quot;white&quot;, &quot;markerColor&quot;: &quot;green&quot;, &quot;prefix&quot;: &quot;glyphicon&quot;}\n            );\n            marker_473ecae7995a430fb91c841ca53238be.setIcon(icon_27d7f837cc782451e1ce50ae510ddc24);\n        \n    \n        var popup_dbad5a433439741c809812f14796e56f = L.popup({&quot;maxWidth&quot;: &quot;100%&quot;});\n\n        \n            \n                var html_4aaa0af792eaa1b48858aa9117cf8a87 = $(`&lt;div id=&quot;html_4aaa0af792eaa1b48858aa9117cf8a87&quot; style=&quot;width: 100.0%; height: 100.0%;&quot;&gt;Closest Coastline&lt;/div&gt;`)[0];\n                popup_dbad5a433439741c809812f14796e56f.setContent(html_4aaa0af792eaa1b48858aa9117cf8a87);\n            \n        \n\n        marker_473ecae7995a430fb91c841ca53238be.bindPopup(popup_dbad5a433439741c809812f14796e56f)\n        ;\n\n        \n    \n    \n            var circle_584feb6b9c0c26c557098c25a48bf018 = L.circle(\n                [28.562302, -80.577356],\n                {&quot;bubblingMouseEvents&quot;: true, &quot;color&quot;: &quot;blue&quot;, &quot;dashArray&quot;: null, &quot;dashOffset&quot;: null, &quot;fill&quot;: true, &quot;fillColor&quot;: &quot;blue&quot;, &quot;fillOpacity&quot;: 0.2, &quot;fillRule&quot;: &quot;evenodd&quot;, &quot;lineCap&quot;: &quot;round&quot;, &quot;lineJoin&quot;: &quot;round&quot;, &quot;opacity&quot;: 1.0, &quot;radius&quot;: 579.5301296336431, &quot;stroke&quot;: true, &quot;weight&quot;: 3}\n            ).addTo(map_13751b86a8080d098860958239fb1c9d);\n        \n    \n        var popup_2978169fad610d973b800637097f6279 = L.popup({&quot;maxWidth&quot;: &quot;100%&quot;});\n\n        \n            \n                var html_0b019f77894cada28ca3f519012a2258 = $(`&lt;div id=&quot;html_0b019f77894cada28ca3f519012a2258&quot; style=&quot;width: 100.0%; height: 100.0%;&quot;&gt;Distance to Coastline: 0.58 KM&lt;/div&gt;`)[0];\n                popup_2978169fad610d973b800637097f6279.setContent(html_0b019f77894cada28ca3f519012a2258);\n            \n        \n\n        circle_584feb6b9c0c26c557098c25a48bf018.bindPopup(popup_2978169fad610d973b800637097f6279)\n        ;\n\n        \n    \n    \n            var poly_line_a33fa6f2c9f63f236cf8892d7b51c8ea = L.polyline(\n                [[28.562302, -80.577356], [28.56367, -80.57163]],\n                {&quot;bubblingMouseEvents&quot;: true, &quot;color&quot;: &quot;red&quot;, &quot;dashArray&quot;: null, &quot;dashOffset&quot;: null, &quot;fill&quot;: false, &quot;fillColor&quot;: &quot;red&quot;, &quot;fillOpacity&quot;: 0.2, &quot;fillRule&quot;: &quot;evenodd&quot;, &quot;lineCap&quot;: &quot;round&quot;, &quot;lineJoin&quot;: &quot;round&quot;, &quot;noClip&quot;: false, &quot;opacity&quot;: 0.7, &quot;smoothFactor&quot;: 1.0, &quot;stroke&quot;: true, &quot;weight&quot;: 2}\n            ).addTo(map_13751b86a8080d098860958239fb1c9d);\n        \n&lt;/script&gt;\n&lt;/html&gt;\" style=\"position:absolute;width:100%;height:100%;left:0;top:0;border:none !important;\" allowfullscreen webkitallowfullscreen mozallowfullscreen></iframe></div></div>"
          },
          "metadata": {}
        }
      ],
      "execution_count": 49
    },
    {
      "cell_type": "markdown",
      "source": "Your updated map with distance line should look like the following screenshot:\n",
      "metadata": {}
    },
    {
      "cell_type": "markdown",
      "source": "<center>\n    <img src=\"https://cf-courses-data.s3.us.cloud-object-storage.appdomain.cloud/IBM-DS0321EN-SkillsNetwork/labs/module_3/images/launch_site_marker_distance.png\">\n</center>\n",
      "metadata": {}
    },
    {
      "cell_type": "markdown",
      "source": "*TODO:* Similarly, you can draw a line betwee a launch site to its closest city, railway, highway, etc. You need to use `MousePosition` to find the their coordinates on the map first\n",
      "metadata": {}
    },
    {
      "cell_type": "markdown",
      "source": "A railway map symbol may look like this:\n",
      "metadata": {}
    },
    {
      "cell_type": "markdown",
      "source": "<center>\n    <img src=\"https://cf-courses-data.s3.us.cloud-object-storage.appdomain.cloud/IBM-DS0321EN-SkillsNetwork/labs/module_3/images/railway.png\">\n</center>\n",
      "metadata": {}
    },
    {
      "cell_type": "markdown",
      "source": "A highway map symbol may look like this:\n",
      "metadata": {}
    },
    {
      "cell_type": "markdown",
      "source": "<center>\n    <img src=\"https://cf-courses-data.s3.us.cloud-object-storage.appdomain.cloud/IBM-DS0321EN-SkillsNetwork/labs/module_3/images/highway.png\">\n</center>\n",
      "metadata": {}
    },
    {
      "cell_type": "markdown",
      "source": "A city map symbol may look like this:\n",
      "metadata": {}
    },
    {
      "cell_type": "markdown",
      "source": "<center>\n    <img src=\"https://cf-courses-data.s3.us.cloud-object-storage.appdomain.cloud/IBM-DS0321EN-SkillsNetwork/labs/module_3/images/city.png\">\n</center>\n",
      "metadata": {}
    },
    {
      "cell_type": "code",
      "source": "# Create a marker with distance to a closest city, railway, highway, etc.\n# Draw a line between the marker to the launch site\nimport folium\nimport math\n\ndef haversine(lat1, lon1, lat2, lon2):\n    R = 6371  # Raio da Terra em quilômetros\n    phi1 = math.radians(lat1)\n    phi2 = math.radians(lat2)\n    delta_phi = math.radians(lat2 - lat1)\n    delta_lambda = math.radians(lon2 - lon1)\n\n    a = math.sin(delta_phi / 2)**2 + math.cos(phi1) * math.cos(phi2) * math.sin(delta_lambda / 2)**2\n    c = 2 * math.atan2(math.sqrt(a), math.sqrt(1 - a))\n\n    return R * c  # Distância em quilômetros\n\n# Coordenadas dos pontos\nlaunch_site_lat, launch_site_lon = 28.562302, -80.577356  # Coordenadas do local de lançamento\ncity_lat, city_lon = 28.536198, -80.648015  # Coordenadas de uma cidade próxima (exemplo)\n\n# Calcular a distância (opcional)\ndistance_to_city = haversine(launch_site_lat, launch_site_lon, city_lat, city_lon)\n\n# Inicializar o mapa\nsite_map = folium.Map(location=[launch_site_lat, launch_site_lon], zoom_start=10)\n\n# Adicionar marcador para o local de lançamento\nfolium.Marker(\n    location=[launch_site_lat, launch_site_lon],\n    popup='Launch Site',\n    icon=folium.Icon(color='blue', icon='rocket')\n).add_to(site_map)\n\n# Adicionar marcador para a cidade\nfolium.Marker(\n    location=[city_lat, city_lon],\n    popup=f'Closest City\\nDistance: {distance_to_city:.2f} KM',\n    icon=folium.Icon(color='red', icon='info-sign')\n).add_to(site_map)\n\n# Criar uma linha entre o local de lançamento e a cidade\ncoordinates = [\n    [launch_site_lat, launch_site_lon],\n    [city_lat, city_lon]\n]\nlines = folium.PolyLine(locations=coordinates, weight=2, color='green', opacity=0.7)\nsite_map.add_child(lines)\n\n# Salvar o mapa\nsite_map.save('launch_site_city_map.html')\nsite_map\n#print(f\"Mapa com o local de lançamento e a cidade mais próxima, e a linha entre os dois pontos foi criado e salvo como 'launch_site_city_map.html'.\")\n",
      "metadata": {
        "trusted": true
      },
      "outputs": [
        {
          "execution_count": 53,
          "output_type": "execute_result",
          "data": {
            "text/plain": "<folium.folium.Map at 0x698bd90>",
            "text/html": "<div style=\"width:100%;\"><div style=\"position:relative;width:100%;height:0;padding-bottom:60%;\"><span style=\"color:#565656\">Make this Notebook Trusted to load map: File -> Trust Notebook</span><iframe srcdoc=\"&lt;!DOCTYPE html&gt;\n&lt;html&gt;\n&lt;head&gt;\n    \n    &lt;meta http-equiv=&quot;content-type&quot; content=&quot;text/html; charset=UTF-8&quot; /&gt;\n    \n        &lt;script&gt;\n            L_NO_TOUCH = false;\n            L_DISABLE_3D = false;\n        &lt;/script&gt;\n    \n    &lt;style&gt;html, body {width: 100%;height: 100%;margin: 0;padding: 0;}&lt;/style&gt;\n    &lt;style&gt;#map {position:absolute;top:0;bottom:0;right:0;left:0;}&lt;/style&gt;\n    &lt;script src=&quot;https://cdn.jsdelivr.net/npm/leaflet@1.9.3/dist/leaflet.js&quot;&gt;&lt;/script&gt;\n    &lt;script src=&quot;https://code.jquery.com/jquery-3.7.1.min.js&quot;&gt;&lt;/script&gt;\n    &lt;script src=&quot;https://cdn.jsdelivr.net/npm/bootstrap@5.2.2/dist/js/bootstrap.bundle.min.js&quot;&gt;&lt;/script&gt;\n    &lt;script src=&quot;https://cdnjs.cloudflare.com/ajax/libs/Leaflet.awesome-markers/2.0.2/leaflet.awesome-markers.js&quot;&gt;&lt;/script&gt;\n    &lt;link rel=&quot;stylesheet&quot; href=&quot;https://cdn.jsdelivr.net/npm/leaflet@1.9.3/dist/leaflet.css&quot;/&gt;\n    &lt;link rel=&quot;stylesheet&quot; href=&quot;https://cdn.jsdelivr.net/npm/bootstrap@5.2.2/dist/css/bootstrap.min.css&quot;/&gt;\n    &lt;link rel=&quot;stylesheet&quot; href=&quot;https://netdna.bootstrapcdn.com/bootstrap/3.0.0/css/bootstrap-glyphicons.css&quot;/&gt;\n    &lt;link rel=&quot;stylesheet&quot; href=&quot;https://cdn.jsdelivr.net/npm/@fortawesome/fontawesome-free@6.2.0/css/all.min.css&quot;/&gt;\n    &lt;link rel=&quot;stylesheet&quot; href=&quot;https://cdnjs.cloudflare.com/ajax/libs/Leaflet.awesome-markers/2.0.2/leaflet.awesome-markers.css&quot;/&gt;\n    &lt;link rel=&quot;stylesheet&quot; href=&quot;https://cdn.jsdelivr.net/gh/python-visualization/folium/folium/templates/leaflet.awesome.rotate.min.css&quot;/&gt;\n    \n            &lt;meta name=&quot;viewport&quot; content=&quot;width=device-width,\n                initial-scale=1.0, maximum-scale=1.0, user-scalable=no&quot; /&gt;\n            &lt;style&gt;\n                #map_9af509953441d60019c8c6a74e122a00 {\n                    position: relative;\n                    width: 100.0%;\n                    height: 100.0%;\n                    left: 0.0%;\n                    top: 0.0%;\n                }\n                .leaflet-container { font-size: 1rem; }\n            &lt;/style&gt;\n        \n&lt;/head&gt;\n&lt;body&gt;\n    \n    \n            &lt;div class=&quot;folium-map&quot; id=&quot;map_9af509953441d60019c8c6a74e122a00&quot; &gt;&lt;/div&gt;\n        \n&lt;/body&gt;\n&lt;script&gt;\n    \n    \n            var map_9af509953441d60019c8c6a74e122a00 = L.map(\n                &quot;map_9af509953441d60019c8c6a74e122a00&quot;,\n                {\n                    center: [28.562302, -80.577356],\n                    crs: L.CRS.EPSG3857,\n                    zoom: 10,\n                    zoomControl: true,\n                    preferCanvas: false,\n                }\n            );\n\n            \n\n        \n    \n            var tile_layer_95f82be26489311aeb2fa4b93c3d5e69 = L.tileLayer(\n                &quot;https://tile.openstreetmap.org/{z}/{x}/{y}.png&quot;,\n                {&quot;attribution&quot;: &quot;\\u0026copy; \\u003ca href=\\&quot;https://www.openstreetmap.org/copyright\\&quot;\\u003eOpenStreetMap\\u003c/a\\u003e contributors&quot;, &quot;detectRetina&quot;: false, &quot;maxNativeZoom&quot;: 19, &quot;maxZoom&quot;: 19, &quot;minZoom&quot;: 0, &quot;noWrap&quot;: false, &quot;opacity&quot;: 1, &quot;subdomains&quot;: &quot;abc&quot;, &quot;tms&quot;: false}\n            );\n        \n    \n            tile_layer_95f82be26489311aeb2fa4b93c3d5e69.addTo(map_9af509953441d60019c8c6a74e122a00);\n        \n    \n            var marker_cbce020990932de5db3d0eba3f11af89 = L.marker(\n                [28.562302, -80.577356],\n                {}\n            ).addTo(map_9af509953441d60019c8c6a74e122a00);\n        \n    \n            var icon_9a4a3259c92c836aef5d884e1cf82b22 = L.AwesomeMarkers.icon(\n                {&quot;extraClasses&quot;: &quot;fa-rotate-0&quot;, &quot;icon&quot;: &quot;rocket&quot;, &quot;iconColor&quot;: &quot;white&quot;, &quot;markerColor&quot;: &quot;blue&quot;, &quot;prefix&quot;: &quot;glyphicon&quot;}\n            );\n            marker_cbce020990932de5db3d0eba3f11af89.setIcon(icon_9a4a3259c92c836aef5d884e1cf82b22);\n        \n    \n        var popup_95fe534cb8b63f4738a344826acfdd0a = L.popup({&quot;maxWidth&quot;: &quot;100%&quot;});\n\n        \n            \n                var html_363b92a079d94263f35e8d2b1a8638ce = $(`&lt;div id=&quot;html_363b92a079d94263f35e8d2b1a8638ce&quot; style=&quot;width: 100.0%; height: 100.0%;&quot;&gt;Launch Site&lt;/div&gt;`)[0];\n                popup_95fe534cb8b63f4738a344826acfdd0a.setContent(html_363b92a079d94263f35e8d2b1a8638ce);\n            \n        \n\n        marker_cbce020990932de5db3d0eba3f11af89.bindPopup(popup_95fe534cb8b63f4738a344826acfdd0a)\n        ;\n\n        \n    \n    \n            var marker_c8543c6e678f2db6355fdeb3be459f9c = L.marker(\n                [28.536198, -80.648015],\n                {}\n            ).addTo(map_9af509953441d60019c8c6a74e122a00);\n        \n    \n            var icon_fa638bc89d547eda24414ef87888f10c = L.AwesomeMarkers.icon(\n                {&quot;extraClasses&quot;: &quot;fa-rotate-0&quot;, &quot;icon&quot;: &quot;info-sign&quot;, &quot;iconColor&quot;: &quot;white&quot;, &quot;markerColor&quot;: &quot;red&quot;, &quot;prefix&quot;: &quot;glyphicon&quot;}\n            );\n            marker_c8543c6e678f2db6355fdeb3be459f9c.setIcon(icon_fa638bc89d547eda24414ef87888f10c);\n        \n    \n        var popup_83625c7821b0ca7845c8c84fc90c4553 = L.popup({&quot;maxWidth&quot;: &quot;100%&quot;});\n\n        \n            \n                var html_5f2ba796be925534e4aef5a8211497de = $(`&lt;div id=&quot;html_5f2ba796be925534e4aef5a8211497de&quot; style=&quot;width: 100.0%; height: 100.0%;&quot;&gt;Closest City Distance: 7.49 KM&lt;/div&gt;`)[0];\n                popup_83625c7821b0ca7845c8c84fc90c4553.setContent(html_5f2ba796be925534e4aef5a8211497de);\n            \n        \n\n        marker_c8543c6e678f2db6355fdeb3be459f9c.bindPopup(popup_83625c7821b0ca7845c8c84fc90c4553)\n        ;\n\n        \n    \n    \n            var poly_line_599e0ae0c1c499915b0f6c56a50bb6b6 = L.polyline(\n                [[28.562302, -80.577356], [28.536198, -80.648015]],\n                {&quot;bubblingMouseEvents&quot;: true, &quot;color&quot;: &quot;green&quot;, &quot;dashArray&quot;: null, &quot;dashOffset&quot;: null, &quot;fill&quot;: false, &quot;fillColor&quot;: &quot;green&quot;, &quot;fillOpacity&quot;: 0.2, &quot;fillRule&quot;: &quot;evenodd&quot;, &quot;lineCap&quot;: &quot;round&quot;, &quot;lineJoin&quot;: &quot;round&quot;, &quot;noClip&quot;: false, &quot;opacity&quot;: 0.7, &quot;smoothFactor&quot;: 1.0, &quot;stroke&quot;: true, &quot;weight&quot;: 2}\n            ).addTo(map_9af509953441d60019c8c6a74e122a00);\n        \n    \n            tile_layer_95f82be26489311aeb2fa4b93c3d5e69.addTo(map_9af509953441d60019c8c6a74e122a00);\n        \n&lt;/script&gt;\n&lt;/html&gt;\" style=\"position:absolute;width:100%;height:100%;left:0;top:0;border:none !important;\" allowfullscreen webkitallowfullscreen mozallowfullscreen></iframe></div></div>"
          },
          "metadata": {}
        }
      ],
      "execution_count": 53
    },
    {
      "cell_type": "code",
      "source": "",
      "metadata": {},
      "outputs": [],
      "execution_count": null
    },
    {
      "cell_type": "code",
      "source": "",
      "metadata": {},
      "outputs": [],
      "execution_count": null
    },
    {
      "cell_type": "markdown",
      "source": "After you plot distance lines to the proximities, you can answer the following questions easily:\n\n*   Are launch sites in close proximity to railways?\n*   Are launch sites in close proximity to highways?\n*   Are launch sites in close proximity to coastline?\n*   Do launch sites keep certain distance away from cities?\n\nAlso please try to explain your findings.\n",
      "metadata": {}
    },
    {
      "cell_type": "markdown",
      "source": "# Next Steps:\n\nNow you have discovered many interesting insights related to the launch sites' location using folium, in a very interactive way. Next, you will need to build a dashboard using Ploty Dash on detailed launch records.\n",
      "metadata": {}
    },
    {
      "cell_type": "markdown",
      "source": "## Authors\n",
      "metadata": {}
    },
    {
      "cell_type": "markdown",
      "source": "[Pratiksha Verma](https://www.linkedin.com/in/pratiksha-verma-6487561b1/)\n",
      "metadata": {}
    },
    {
      "cell_type": "markdown",
      "source": "<!--## Change Log--!>\n",
      "metadata": {}
    },
    {
      "cell_type": "markdown",
      "source": "<!--| Date (YYYY-MM-DD) | Version | Changed By      | Change Description      |\n| ----------------- | ------- | -------------   | ----------------------- |\n| 2022-11-09        | 1.0     | Pratiksha Verma | Converted initial version to Jupyterlite|--!>\n",
      "metadata": {}
    },
    {
      "cell_type": "markdown",
      "source": "### <h3 align=\"center\"> IBM Corporation 2022. All rights reserved. <h3/>\n",
      "metadata": {}
    }
  ]
}